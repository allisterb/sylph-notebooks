{
 "cells": [
  {
   "cell_type": "markdown",
   "metadata": {},
   "source": [
    "# Sylph"
   ]
  },
  {
   "cell_type": "markdown",
   "metadata": {},
   "source": [
    "[Sylph](https://github.com/allisterb/Sylvester/tree/master/src/Lang/Sylvester.Prover) (symbolic proof helper) is a language-integrated interactive theorem prover for F# which helps a user formally prove two F# functions or expressions are equivalent according to the axioms and rules of a particular proof system.\n",
    "\n",
    "Unlike other theorem provers Sylph does not require an external DSL or parser for expressing theorem statements, or an external interactive environment for creating and storing the state of proofs. Theorems are expressed as the equivalence of 2 formulas with the same domain and co-domain and a [formula](https://github.com/allisterb/Sylvester/blob/master/src/Lang/Sylvester.Prover/Formula.fs) is defined as any F# function of a particular type for which a code quotation and full expression tree are available. Formulas in a theorem do not have to be logical formulas but any 2 formulas where it makes sense to reason about equationally."
   ]
  },
  {
   "cell_type": "code",
   "execution_count": 13,
   "metadata": {},
   "outputs": [],
   "source": [
    "// Use the Sylph NuGet package\n",
    "#load \"Paket.fsx\"\n",
    "Paket.Package[\"Sylph\"] \n",
    "#load \"Paket.Generated.Refs.fsx\"\n",
    "//#load \"C:\\\\Projects\\\\Sylvester.git\\\\notebooks\\\\MathInclude.fsx\""
   ]
  },
  {
   "cell_type": "code",
   "execution_count": 14,
   "metadata": {},
   "outputs": [],
   "source": [
    "open Sylph\n",
    "\n",
    "// Define some integer formulae of interest\n",
    "let F1 = F (fun x -> 2 * x + 8)\n",
    "let F2 = F (fun x -> 2 * x + 3 + 5)\n",
    "let F3 = F (fun x -> 3 * x + 6 + 2 * x + 4)\n",
    "let F4 = F (fun x -> 5 * x + 10)"
   ]
  },
  {
   "cell_type": "code",
   "execution_count": 3,
   "metadata": {},
   "outputs": [
    {
     "data": {
      "text/plain": [
       "Lambda (x,\n",
       "        Call (None, op_Addition,\n",
       "              [Call (None, op_Multiply, [Value (2), x]), Value (8)]))"
      ]
     },
     "execution_count": 3,
     "metadata": {},
     "output_type": "execute_result"
    }
   ],
   "source": [
    "// Or use a reflected definition\n",
    "\n",
    "[<ReflectedDefinition>]\n",
    "let f5 x = x * x + 4 * x\n",
    "\n",
    "let F5 = F f5\n",
    "\n",
    "// Each formula has a symbolic expression\n",
    "F1.Expr"
   ]
  },
  {
   "cell_type": "code",
   "execution_count": 4,
   "metadata": {},
   "outputs": [
    {
     "data": {
      "text/plain": [
       "\"fun x -> 2 * x + 8\""
      ]
     },
     "execution_count": 4,
     "metadata": {},
     "output_type": "execute_result"
    }
   ],
   "source": [
    "// And can also be decompiled to the F# source\n",
    "F1.Src"
   ]
  },
  {
   "cell_type": "markdown",
   "metadata": {},
   "source": [
    "Proofs are constructed according to the axioms and rules of a [proof system](https://github.com/allisterb/Sylvester/blob/master/src/Lang/Sylvester.Prover/Systems/IntegerArithmetic.fs) which define the rules that can be used to match and transform formula expressions that preserve equivalence."
   ]
  },
  {
   "cell_type": "code",
   "execution_count": 5,
   "metadata": {},
   "outputs": [
    {
     "data": {
      "text/plain": [
       "true"
      ]
     },
     "execution_count": 5,
     "metadata": {},
     "output_type": "execute_result"
    }
   ],
   "source": [
    "// Open the integer arithmetic proof system\n",
    "open IntegerArithmetic\n",
    "\n",
    "// Define some integer arithmetic formulae\n",
    "let a = F (fun x -> 3 * x + 5)\n",
    "let b = F (fun x -> 5 + 3 * x)\n",
    "let c = F (fun x -> 6 * x)\n",
    "\n",
    "//Some theorems are true axiomatically \n",
    "// e.g the functions a and b are equivalent because of the commutativity axiom of integer arithmtic.\n",
    "integer_arithmetic |- (a <=> b)"
   ]
  },
  {
   "cell_type": "markdown",
   "metadata": {},
   "source": [
    "[Axioms](https://github.com/allisterb/Sylvester/blob/5811b1f544d94057b40728b9086b7ccd940428ab/src/Lang/Sylvester.Prover/Systems/IntegerArithmetic.fs#L13) are pure functions that match patterns in primitive unary and binary formulas e.g the addition identity axiom for integer arithmetic is [defined](https://github.com/allisterb/Sylvester/blob/3117e5611d7f258290853a10d8c3925e39194836/src/Lang/Sylvester.Prover/Systems/IntegerArithmetic.fs#L47) as:"
   ]
  },
  {
   "cell_type": "markdown",
   "metadata": {},
   "source": [
    "````fsharp\n",
    " let (|AddIdentity|_|) = \n",
    "    function\n",
    "    | a1, Add(a2, Int32 0) when sequal a1 a2 -> Some true\n",
    "    | Lambda(_, a1), Lambda(_, Add(a2, Int32 0)) when sequal a1 a2 -> Some true\n",
    "    | Add(a1, Int32 0), a2 when sequal a1 a2 -> Some true\n",
    "    | Lambda(_, Add(a1, Int32 0)), Lambda(_, a2) when sequal a1 a2 -> Some true\n",
    "    | _ -> None\n",
    "````"
   ]
  },
  {
   "cell_type": "code",
   "execution_count": 6,
   "metadata": {},
   "outputs": [
    {
     "data": {
      "text/plain": [
       "true"
      ]
     },
     "execution_count": 6,
     "metadata": {},
     "output_type": "execute_result"
    }
   ],
   "source": [
    "// True because of the addition identity axiom\n",
    "integer_arithmetic |- (c <=> F(fun x -> 6*x + 0))"
   ]
  },
  {
   "cell_type": "markdown",
   "metadata": {},
   "source": [
    "Proof systems also contain [rules](https://github.com/allisterb/Sylvester/blob/5811b1f544d94057b40728b9086b7ccd940428ab/src/Lang/Sylvester.Prover/Systems/IntegerArithmetic.fs#L60) that are valid ways to transform two function expressions when they are not in a primitive unary or binary form. Theorems usully require a *proof* which is just a `list` of rule applications that must all be instances of rules defined only by the proof system."
   ]
  },
  {
   "cell_type": "code",
   "execution_count": 7,
   "metadata": {},
   "outputs": [
    {
     "data": {
      "text/plain": [
       "false"
      ]
     },
     "execution_count": 7,
     "metadata": {},
     "output_type": "execute_result"
    }
   ],
   "source": [
    "// Not provable directly from axioms: 2x + 5 + 3 <=> 2x + 8 \n",
    "integer_arithmetic |- (F1 <=> F2)"
   ]
  },
  {
   "cell_type": "code",
   "execution_count": 9,
   "metadata": {},
   "outputs": [
    {
     "data": {
      "text/plain": [
       "Proof of A: fun x -> 2 * x + 8 <=> B: fun x -> 2 * x + 3 + 5:\r\n",
       "1. B is right-associative: fun x -> 2 * x + 3 + 5 <=> fun x -> 2 * x + (3 + 5)\r\n",
       "Proof incomplete.\r\n",
       "2. Reduce equal constants in A and B: fun x -> 2 * x + (3 + 5) <=> fun x -> 2 * x + 8\r\n",
       "Proof complete.\r\n"
      ]
     },
     "metadata": {},
     "output_type": "display_data"
    }
   ],
   "source": [
    "// Proof of F1 <=> F2 using two steps\n",
    "let p1 = proof (F1 <=> F2) integer_arithmetic [\n",
    "        right_assoc_b \n",
    "        equal_constants_a_b\n",
    "    ]"
   ]
  },
  {
   "cell_type": "markdown",
   "metadata": {},
   "source": [
    "Rules are defined as recursive pure functions that preserve equivalence between two formulae e.g the rule of right associativity for arithmetic operators is implemented as:"
   ]
  },
  {
   "cell_type": "markdown",
   "metadata": {},
   "source": [
    "````fsharp\n",
    "let rec right_assoc =\n",
    "    function\n",
    "    | Add(Add(a1, a2), a3) -> <@@ %%a1 + (%%a2 + %%a3) @@>\n",
    "    | Subtract(Subtract(a1, a2), a3) -> <@@ %%a1 - (%%a2 + %%a3) @@>\n",
    "    | Multiply(Multiply(a1, a2), a3) -> <@@ %%a1 * (%%a2 * %%a3) @@>\n",
    "    | expr -> traverse expr right_assoc\n",
    "````"
   ]
  },
  {
   "cell_type": "code",
   "execution_count": 10,
   "metadata": {},
   "outputs": [
    {
     "data": {
      "text/plain": [
       "(Lambda (x,\n",
       "        Call (None, op_Addition,\n",
       "              [Call (None, op_Addition,\n",
       "                     [Call (None, op_Multiply, [Value (2), x]), Value (3)]),\n",
       "               Value (5)])),\n",
       " Lambda (x,\n",
       "        Call (None, op_Addition,\n",
       "              [Call (None, op_Multiply, [Value (2), x]),\n",
       "               Call (None, op_Addition, [Value (3), Value (5)])])))"
      ]
     },
     "execution_count": 10,
     "metadata": {},
     "output_type": "execute_result"
    }
   ],
   "source": [
    "// Apply the right_assoc rule to a formula expression and compare\n",
    "F2.Expr, right_assoc F2.Expr"
   ]
  },
  {
   "cell_type": "markdown",
   "metadata": {},
   "source": [
    "Rules are normal F# functions that can be chained together:"
   ]
  },
  {
   "cell_type": "code",
   "execution_count": 11,
   "metadata": {},
   "outputs": [
    {
     "data": {
      "text/plain": [
       "Lambda (x,\n",
       "        Call (None, op_Addition,\n",
       "              [Call (None, op_Multiply, [Value (2), x]), Value (8)]))"
      ]
     },
     "execution_count": 11,
     "metadata": {},
     "output_type": "execute_result"
    }
   ],
   "source": [
    "// Rules on formula expressions can be chained together.\n",
    "(right_assoc >> equal_constants) F2.Expr"
   ]
  },
  {
   "cell_type": "code",
   "execution_count": 12,
   "metadata": {},
   "outputs": [
    {
     "data": {
      "text/plain": [
       "(\"fun x -> 2 * x + 3 + 5\", \"fun x -> 2 * x + 8\")"
      ]
     },
     "execution_count": 12,
     "metadata": {},
     "output_type": "execute_result"
    }
   ],
   "source": [
    "// Apply two rules and compare the resulting source\n",
    "src F2.Expr, (right_assoc >> equal_constants >> src) F2.Expr"
   ]
  },
  {
   "cell_type": "markdown",
   "metadata": {},
   "source": [
    "In the above case we can see that the two formulae F1 and F2 are equivalent since one can be transformed into another and we use these two rules in our proof `p1`."
   ]
  },
  {
   "cell_type": "code",
   "execution_count": 15,
   "metadata": {},
   "outputs": [
    {
     "data": {
      "text/plain": [
       "[Rule (\"B is right-associative\",<fun:right_assoc_b@218>);\n",
       " Rule (\"Reduce equal constants in A and B\",<fun:equal_constants_a_b@206>)]"
      ]
     },
     "execution_count": 15,
     "metadata": {},
     "output_type": "execute_result"
    }
   ],
   "source": [
    "p1.Steps"
   ]
  },
  {
   "cell_type": "code",
   "execution_count": 27,
   "metadata": {},
   "outputs": [
    {
     "data": {
      "text/plain": [
       "true"
      ]
     },
     "execution_count": 27,
     "metadata": {},
     "output_type": "execute_result"
    }
   ],
   "source": [
    "p1 |- (F1 <=> F2)"
   ]
  },
  {
   "cell_type": "markdown",
   "metadata": {},
   "source": [
    "When a proof is constructed each step is checked and executed and the resulting state of the pair of formulae logged and stored. This is a longer proof using more rules of inference for integer arithmetic:"
   ]
  },
  {
   "cell_type": "code",
   "execution_count": 16,
   "metadata": {},
   "outputs": [
    {
     "data": {
      "text/plain": [
       "Proof of A: fun x -> 3 * x + 6 + 2 * x + 4 <=> B: fun x -> 5 * x + 10:\r\n",
       "1. A is right-associative: fun x -> 3 * x + 6 + 2 * x + 4 <=> fun x -> 3 * x + 6 + (2 * x + 4)\r\n",
       "Proof incomplete.\r\n",
       "2. Right side of A is commutative: fun x -> 3 * x + 6 + (2 * x + 4) <=> fun x -> 3 * x + 6 + (4 + 2 * x)\r\n",
       "Proof incomplete.\r\n",
       "3. A is right-associative: fun x -> 3 * x + 6 + (4 + 2 * x) <=> fun x -> 3 * x + (6 + (4 + 2 * x))\r\n",
       "Proof incomplete.\r\n",
       "4. Right side of A is left-associative: fun x -> 3 * x + (6 + (4 + 2 * x)) <=> fun x -> 3 * x + (6 + 4 + 2 * x)\r\n",
       "Proof incomplete.\r\n",
       "5. Reduce equal constants in A and B: fun x -> 3 * x + (6 + 4 + 2 * x) <=> fun x -> 3 * x + (10 + 2 * x)\r\n",
       "Proof incomplete.\r\n",
       "6. Right side of A is commutative: fun x -> 3 * x + (10 + 2 * x) <=> fun x -> 3 * x + (2 * x + 10)\r\n",
       "Proof incomplete.\r\n",
       "7. A is left-associative: fun x -> 3 * x + (2 * x + 10) <=> fun x -> 3 * x + 2 * x + 10\r\n",
       "Proof incomplete.\r\n",
       "8. Collect multiplication terms distributed over addition in left-side of A: fun x -> 3 * x + 2 * x + 10 <=> fun x -> x * (3 + 2) + 10\r\n",
       "Proof incomplete.\r\n",
       "9. Reduce equal constants in A and B: fun x -> x * (3 + 2) + 10 <=> fun x -> x * 5 + 10\r\n",
       "Proof incomplete.\r\n",
       "10. Left side of A is commutative: fun x -> x * 5 + 10 <=> fun x -> 5 * x + 10\r\n",
       "Proof complete.\r\n"
      ]
     },
     "metadata": {},
     "output_type": "display_data"
    }
   ],
   "source": [
    "// 3 * x + 6 + 2 * x + 4 <=> 5 * x + 10\n",
    "let p2 = proof (F3 <=> F4) integer_arithmetic [\n",
    "    right_assoc_a \n",
    "    commute_a_right\n",
    "    right_assoc_a \n",
    "    left_assoc_a_right\n",
    "    equal_constants_a_b\n",
    "    commute_a_right\n",
    "    left_assoc_a\n",
    "    collect_a_left\n",
    "    equal_constants_a_b\n",
    "    commute_a_left\n",
    "    ]"
   ]
  },
  {
   "cell_type": "code",
   "execution_count": 24,
   "metadata": {},
   "outputs": [
    {
     "data": {
      "text/plain": [
       "(Lambda (x,\n",
       "        Call (None, op_Addition,\n",
       "              [Call (None, op_Multiply, [Value (3), x]),\n",
       "               Call (None, op_Addition,\n",
       "                     [Call (None, op_Multiply, [Value (2), x]), Value (10)])])),\n",
       " Lambda (x,\n",
       "        Call (None, op_Addition,\n",
       "              [Call (None, op_Multiply, [Value (5), x]), Value (10)])),\n",
       " \"6. Right side of A is commutative: fun x -> 3 * x + (10 + 2 * x) <=> fun x -> 3 * x + (2 * x + 10)\")"
      ]
     },
     "execution_count": 24,
     "metadata": {},
     "output_type": "execute_result"
    }
   ],
   "source": [
    "// Proof state after sixth step\n",
    "p2.State.[5]"
   ]
  },
  {
   "cell_type": "markdown",
   "metadata": {},
   "source": [
    "There are two kinds of rules: rules derived from axioms of a particular proof system and a general substitution rule (derived from the axiom of symbolic equality) which says that in any proof a formula B can be substituted for a formula A when a proof exists for A <=> B in the same system. The substitution rule is what allows proofs to be created in stages e.g we can create a partial proof of F3 <=> F4."
   ]
  },
  {
   "cell_type": "code",
   "execution_count": 29,
   "metadata": {},
   "outputs": [
    {
     "data": {
      "text/plain": [
       "Proof of A: fun x -> 3 * x + 6 + 2 * x + 4 <=> B: fun x -> 5 * x + 10:\r\n",
       "1. A is right-associative: fun x -> 3 * x + 6 + 2 * x + 4 <=> fun x -> 3 * x + 6 + (2 * x + 4)\r\n",
       "Proof incomplete.\r\n",
       "2. Right side of A is commutative: fun x -> 3 * x + 6 + (2 * x + 4) <=> fun x -> 3 * x + 6 + (4 + 2 * x)\r\n",
       "Proof incomplete.\r\n",
       "3. A is right-associative: fun x -> 3 * x + 6 + (4 + 2 * x) <=> fun x -> 3 * x + (6 + (4 + 2 * x))\r\n",
       "Proof incomplete.\r\n",
       "4. Right side of A is left-associative: fun x -> 3 * x + (6 + (4 + 2 * x)) <=> fun x -> 3 * x + (6 + 4 + 2 * x)\r\n",
       "Proof incomplete.\r\n",
       "5. Reduce equal constants in A and B: fun x -> 3 * x + (6 + 4 + 2 * x) <=> fun x -> 3 * x + (10 + 2 * x)\r\n",
       "Proof incomplete.\r\n"
      ]
     },
     "metadata": {},
     "output_type": "display_data"
    }
   ],
   "source": [
    "// 3 * x + 6 + 2 * x + 4 <=> 5 * x + 10\n",
    "let p3 = proof (F3 <=> F4) integer_arithmetic [\n",
    "    right_assoc_a \n",
    "    commute_a_right\n",
    "    right_assoc_a \n",
    "    left_assoc_a_right\n",
    "    equal_constants_a_b\n",
    "]"
   ]
  },
  {
   "cell_type": "markdown",
   "metadata": {},
   "source": [
    "If we then work on another proof which completes this proof we can join these two proofs together"
   ]
  },
  {
   "cell_type": "code",
   "execution_count": 30,
   "metadata": {},
   "outputs": [
    {
     "data": {
      "text/plain": [
       "Proof of A: fun x -> 3 * x + (10 + 2 * x) <=> B: fun x -> 5 * x + 10:\r\n",
       "1. Right side of A is commutative: fun x -> 3 * x + (10 + 2 * x) <=> fun x -> 3 * x + (2 * x + 10)\r\n",
       "Proof incomplete.\r\n",
       "2. A is left-associative: fun x -> 3 * x + (2 * x + 10) <=> fun x -> 3 * x + 2 * x + 10\r\n",
       "Proof incomplete.\r\n",
       "3. Collect multiplication terms distributed over addition in left-side of A: fun x -> 3 * x + 2 * x + 10 <=> fun x -> x * (3 + 2) + 10\r\n",
       "Proof incomplete.\r\n",
       "4. Reduce equal constants in A and B: fun x -> x * (3 + 2) + 10 <=> fun x -> x * 5 + 10\r\n",
       "Proof incomplete.\r\n",
       "5. Left side of A is commutative: fun x -> x * 5 + 10 <=> fun x -> 5 * x + 10\r\n",
       "Proof complete.\r\n"
      ]
     },
     "metadata": {},
     "output_type": "display_data"
    }
   ],
   "source": [
    "let p4 = proof (F(fun x -> 3 * x + (10 + 2 * x)) <=> F4) integer_arithmetic [\n",
    "    commute_a_right\n",
    "    left_assoc_a\n",
    "    collect_a_left\n",
    "    equal_constants_a_b\n",
    "    commute_a_left\n",
    "]"
   ]
  },
  {
   "cell_type": "code",
   "execution_count": 32,
   "metadata": {},
   "outputs": [
    {
     "data": {
      "text/plain": [
       "Proof of A: fun x -> 3 * x + 6 + 2 * x + 4 <=> B: fun x -> 5 * x + 10:\r\n",
       "1. Joining proof of fun x -> 3 * x + 6 + 2 * x + 4 <=> fun x -> 3 * x + (10 + 2 * x) to proof of fun x -> 3 * x + (10 + 2 * x) <=> fun x -> 5 * x + 10.: fun x -> 3 * x + 6 + 2 * x + 4 <=> fun x -> 3 * x + (10 + 2 * x)\r\n",
       "Proof incomplete.\r\n",
       "2. Right side of A is commutative: fun x -> 3 * x + (10 + 2 * x) <=> fun x -> 3 * x + (2 * x + 10)\r\n",
       "Proof incomplete.\r\n",
       "3. A is left-associative: fun x -> 3 * x + (2 * x + 10) <=> fun x -> 3 * x + 2 * x + 10\r\n",
       "Proof incomplete.\r\n",
       "4. Collect multiplication terms distributed over addition in left-side of A: fun x -> 3 * x + 2 * x + 10 <=> fun x -> x * (3 + 2) + 10\r\n",
       "Proof incomplete.\r\n",
       "5. Reduce equal constants in A and B: fun x -> x * (3 + 2) + 10 <=> fun x -> x * 5 + 10\r\n",
       "Proof incomplete.\r\n",
       "6. Left side of A is commutative: fun x -> x * 5 + 10 <=> fun x -> 5 * x + 10\r\n",
       "Proof complete.\r\n"
      ]
     },
     "metadata": {},
     "output_type": "display_data"
    }
   ],
   "source": [
    "// Join p3 and p4 together to complete the proof of F3 <=> F4 \n",
    "let p5 = p3 + p4"
   ]
  },
  {
   "cell_type": "code",
   "execution_count": 33,
   "metadata": {},
   "outputs": [
    {
     "data": {
      "text/plain": [
       "true"
      ]
     },
     "execution_count": 33,
     "metadata": {},
     "output_type": "execute_result"
    }
   ],
   "source": [
    "p5 |- (F3 <=> F4)"
   ]
  }
 ],
 "metadata": {
  "kernelspec": {
   "display_name": "F#",
   "language": "fsharp",
   "name": "ifsharp"
  },
  "language": "fsharp",
  "language_info": {
   "codemirror_mode": "",
   "file_extension": ".fs",
   "mimetype": "text/x-fsharp",
   "name": "fsharp",
   "nbconvert_exporter": "",
   "pygments_lexer": "",
   "version": "4.3.1.0"
  }
 },
 "nbformat": 4,
 "nbformat_minor": 2
}
