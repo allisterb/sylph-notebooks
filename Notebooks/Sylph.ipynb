{
 "cells": [
  {
   "cell_type": "markdown",
   "metadata": {},
   "source": [
    "# Sylph"
   ]
  },
  {
   "cell_type": "markdown",
   "metadata": {},
   "source": [
    "Sylph (symbolic proof helper) is a language-integrated proof assistant for F#. "
   ]
  },
  {
   "cell_type": "code",
   "execution_count": 3,
   "metadata": {
    "hide_input": false
   },
   "outputs": [],
   "source": [
    "// Load the Sylph NuGet package\n",
    "#r \"nuget: Sylph\"\n",
    "// Load helpers for the .NET Core Jupyter kernel.\n",
    "#load \"netcore.fsx\""
   ]
  },
  {
   "cell_type": "code",
   "execution_count": 4,
   "metadata": {},
   "outputs": [
    {
     "name": "stdout",
     "output_type": "stream",
     "text": [
      "[Lemma] true = (false = false):\n",
      "        ⊢ true = (false = false). [Definition of true]\n",
      "        Proof complete.\n",
      "\n",
      "[Lemma] true = (false = false):\n",
      "        ⊢ true = (false = false). [Definition of true]\n",
      "        Proof complete.\n",
      "\n",
      "[Lemma] false = false = true:\n",
      "        1. Logical operators in expression are commutative: false = false = true → true = (false = false).\n",
      "        ⊢ true = (false = false). [Definition of true]\n",
      "        Proof complete.\n",
      "\n",
      "[Lemma] ¬ false = true:\n",
      "        1. Logical operators in expression are commutative: ¬ false = true → true = ¬ false.\n",
      "        Proof incomplete. Current state: true = ¬ false.\n",
      "        2. Substitute true ≡ false = false into left of expression.\n",
      "        Proof incomplete. Current state: false = false = ¬ false.\n",
      "        3. Logical operators in expression are right-associative: false = false = ¬ false → false = (false = ¬ false).\n",
      "        Proof incomplete. Current state: false = (false = ¬ false).\n",
      "        4. Logical operators in right of expression are commutative: false = (false = ¬ false) → false = (¬ false = false).\n",
      "        Proof incomplete. Current state: false = (¬ false = false).\n",
      "        5. Collect distributed logical terms in right of expression: false = (¬ false = false) → false = ¬ (false = false).\n",
      "        Proof incomplete. Current state: false = ¬ (false = false).\n",
      "        6. Substitute false = false ≡ true into right of expression.\n",
      "        ⊢ false = ¬ true. [Definition of false]\n",
      "        Proof complete.\n",
      "\n",
      "[Lemma] true = (q = q):\n",
      "        ⊢ true = (q = q). [Definition of true]\n",
      "        Proof complete.\n",
      "\n",
      "[Lemma] q = q = true:\n",
      "        1. Logical operators in expression are commutative: q = q = true → true = (q = q).\n",
      "        ⊢ true = (q = q). [Definition of true]\n",
      "        Proof complete.\n",
      "\n",
      "Proof of p = p = q = q:\n",
      "1. Logical operators in expression are right-associative: p = p = q = q → p = p = (q = q).\n",
      "Proof incomplete. Current state: p = p = (q = q).\n",
      "2. Substitute q = q ≡ true into right of expression.\n",
      "Proof incomplete. Current state: p = p = true.\n",
      "3. Logical operators in expression are commutative: p = p = true → true = (p = p).\n",
      "⊢ true = (p = p). [Definition of true]\n",
      "Proof complete.\n"
     ]
    }
   ],
   "source": [
    "// Open the Sylvester namespace which contains the Sylph types and functions.\n",
    "open Sylvester\n",
    "// Open the PropCaclulus namespace which contains the axioms and rules for the propositional calculus theory.\n",
    "open PropCalculus \n",
    "\n",
    "// Declare some bool variables for use in formulae\n",
    "let p,q,r = var3<bool>\n",
    "\n",
    "// Prove the identity p = p = q = q use the rules and axioms of propositional calculus\n",
    "let p1 = proof prop_calculus <@ p = p = q = q @>  [\n",
    "    // Operators in formula are right-associative\n",
    "    RightAssoc |> LR\n",
    "    // Substitute the definition true = (p = p)\n",
    "    def_true <@ q @> |> Trn |> R\n",
    "    // Operators in formula are commutative\n",
    "    Commute |> LR\n",
    "]"
   ]
  },
  {
   "cell_type": "markdown",
   "metadata": {},
   "source": [
    "Unlike other theorem provers Sylph does not require an external DSL or parser for expressing theorem statements, or an external interactive environment for creating and storing the state of proofs. Theorems are expressed as the equivalence of 2 formulas and a formula is defined as any F# expression of a particular type for which a code quotation and full expression tree is available."
   ]
  },
  {
   "cell_type": "code",
   "execution_count": 5,
   "metadata": {},
   "outputs": [],
   "source": [
    "// Define a formula of interest using an ordinary function with the Formula attribute\n",
    "[<Formula>]\n",
    "let f1 a b = a * a + 6 * b + 5\n",
    "\n",
    "// Or use an expression directly\n",
    "let f2 = <@ fun x -> 3 * x + 5@>"
   ]
  },
  {
   "cell_type": "code",
   "execution_count": 6,
   "metadata": {},
   "outputs": [
    {
     "data": {
      "text/html": [
       "Lambda (a,\n",
       "        Lambda (b,\n",
       "                Call (None, op_Addition,\n",
       "                      [Call (None, op_Addition,\n",
       "                             [Call (None, op_Multiply, [a, a]),\n",
       "                              Call (None, op_Multiply, [Value (6), b])]),\n",
       "                       Value (5)])))"
      ]
     },
     "execution_count": 6,
     "metadata": {},
     "output_type": "execute_result"
    }
   ],
   "source": [
    "// Each formula has a symbolic expression\n",
    "<@ f1 @> |> expand"
   ]
  },
  {
   "cell_type": "code",
   "execution_count": 7,
   "metadata": {},
   "outputs": [
    {
     "data": {
      "text/plain": [
       "fun x -> 3 * x + 5"
      ]
     },
     "execution_count": 7,
     "metadata": {},
     "output_type": "execute_result"
    }
   ],
   "source": [
    "// And can also be decompiled to the F# source\n",
    "src f2"
   ]
  },
  {
   "cell_type": "markdown",
   "metadata": {},
   "source": [
    "Proofs are constructed according to the axioms and rules of [theories](https://github.com/allisterb/Sylvester/blob/master/src/Math/Sylvester.AbstractAlgebra/Theories/) which define the rules that can be used to match and transform formula expressions that preserve equivalence."
   ]
  },
  {
   "cell_type": "code",
   "execution_count": 8,
   "metadata": {},
   "outputs": [
    {
     "data": {
      "text/plain": [
       "True"
      ]
     },
     "execution_count": 8,
     "metadata": {},
     "output_type": "execute_result"
    }
   ],
   "source": [
    "// Define 3 boolean variables for use in formulas\n",
    "let p, q, r = var3<bool>\n",
    "\n",
    "// Some theorems are true axiomatically \n",
    "prop_calculus |- <@ (p ||| q) = (q ||| p) @>  "
   ]
  },
  {
   "cell_type": "code",
   "execution_count": 9,
   "metadata": {},
   "outputs": [
    {
     "name": "stdout",
     "output_type": "stream",
     "text": [
      "[Lemma] p ∨ q ∨ r = p ∨ (q ∨ r):\n",
      "        ⊢ p ∨ q ∨ r = p ∨ (q ∨ r). [Axiom of Associativity]\n",
      "        Proof complete.\n",
      "\n"
     ]
    }
   ],
   "source": [
    "// Provable directly from axioms\n",
    "let t2 = axiom prop_calculus <@ p ||| q ||| r = (p ||| (q ||| r))@>"
   ]
  },
  {
   "cell_type": "markdown",
   "metadata": {},
   "source": [
    "Axioms are pure functions or schemas that match patterns in primitive unary and binary formulas, which define a set of formulae that are always equivalent in a theory e.g an identity axiom for a theory is defined as:"
   ]
  },
  {
   "cell_type": "markdown",
   "metadata": {},
   "source": [
    "````fsharp\n",
    "/// x + 0 == x\n",
    "let (|Identity|_|) (op: Expr<'t->'t->'t>) (zero:Expr<'t>)   = \n",
    "    function\n",
    "    | Binary op (a1, z), a2 when sequal a1 a2 && sequal zero z -> Some (pattern_desc \"Identity\" <@ fun (x:'t) -> (%op) x (%zero) = (%zero) @>)\n",
    "    | _ -> None\n",
    "````"
   ]
  },
  {
   "cell_type": "markdown",
   "metadata": {},
   "source": [
    "Theores also contain rules that are valid ways to transform two formulas when they are not in a primitive unary or binary form. Theorems that two formulae are equivalent usully require a *proof* which is just a `list` of rule applications that must all be instances of rules defined only by the proof system."
   ]
  },
  {
   "cell_type": "code",
   "execution_count": 10,
   "metadata": {},
   "outputs": [
    {
     "name": "stdout",
     "output_type": "stream",
     "text": [
      "Proof of ¬ p = q = p = ¬ q:\n",
      "Proof incomplete. Current state: ¬ p = q = p = ¬ q.\n"
     ]
    }
   ],
   "source": [
    "// Not provable directly from axioms: not p = q = p = not q\n",
    "let p2 = proof prop_calculus <@ not p = q = p = not q @> [] "
   ]
  },
  {
   "cell_type": "code",
   "execution_count": 11,
   "metadata": {},
   "outputs": [
    {
     "name": "stdout",
     "output_type": "stream",
     "text": [
      "Proof of ¬ p = q = p = ¬ q:\n",
      "1. Collect distributed logical terms in left of expression: ¬ p = q = p = ¬ q → ¬ (p = q) = p = ¬ q.\n",
      "Proof incomplete. Current state: ¬ (p = q) = p = ¬ q.\n",
      "2. Logical operators in expression are right-associative: ¬ (p = q) = p = ¬ q → ¬ (p = q) = (p = ¬ q).\n",
      "Proof incomplete. Current state: ¬ (p = q) = (p = ¬ q).\n",
      "3. Logical operators in right of expression are commutative: ¬ (p = q) = (p = ¬ q) → ¬ (p = q) = (¬ q = p).\n",
      "Proof incomplete. Current state: ¬ (p = q) = (¬ q = p).\n",
      "4. Collect distributed logical terms in right of expression: ¬ (p = q) = (¬ q = p) → ¬ (p = q) = ¬ (q = p).\n",
      "Proof incomplete. Current state: ¬ (p = q) = ¬ (q = p).\n",
      "5. Logical operators in right of expression are commutative: ¬ (p = q) = ¬ (q = p) → ¬ (p = q) = ¬ (p = q).\n",
      "⊢ ¬ (p = q) = ¬ (p = q). [Axiom of Symbolic Equality]\n",
      "Proof complete.\n"
     ]
    }
   ],
   "source": [
    "// Prove not p = q = p = not q in 5 steps.\n",
    "let p3 = proof prop_calculus <@ not p = q = p = not q @> [\n",
    "        Collect |> L\n",
    "        RightAssoc |> LR\n",
    "        Commute |> R\n",
    "        Collect |> R\n",
    "        Commute |> R\n",
    "    ] "
   ]
  }
 ],
 "metadata": {
  "kernelspec": {
   "display_name": ".NET (F#)",
   "language": "F#",
   "name": ".net-fsharp"
  },
  "language": "fsharp",
  "language_info": {
   "file_extension": ".fs",
   "mimetype": "text/x-fsharp",
   "name": "C#",
   "pygments_lexer": "fsharp",
   "version": "4.5"
  }
 },
 "nbformat": 4,
 "nbformat_minor": 2
}
