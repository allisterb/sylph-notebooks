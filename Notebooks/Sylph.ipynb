{
 "cells": [
  {
   "cell_type": "markdown",
   "metadata": {},
   "source": [
    "# Sylph"
   ]
  },
  {
   "cell_type": "markdown",
   "metadata": {},
   "source": [
    "Sylph (symbolic proof helper) is a language-integrated proof assistant for F#. "
   ]
  },
  {
   "cell_type": "code",
   "execution_count": 1,
   "metadata": {
    "hide_input": false
   },
   "outputs": [
    {
     "data": {
      "text/html": [
       "Installing package Sylvester.AbstractAlgebra.done!"
      ]
     },
     "metadata": {},
     "output_type": "display_data"
    },
    {
     "name": "stdout",
     "output_type": "stream",
     "text": [
      "=============== S T A R T ==========================================\n",
      ">>>> C:\\Users\\Allister\\.nuget\\packages\\sylvester.arithmetic\\0.2.4\\typeproviders\\fsharp41\\netstandard2.0\\Sylvester.Provider.Arithmetic.DesignTime.dll\n",
      "Using: C:\\Users\\Allister\\.nuget\\packages\\sylvester.arithmetic\\0.2.4\\typeproviders\\fsharp41\\netstandard2.0\\Sylvester.Provider.Arithmetic.DesignTime.dll\n"
     ]
    }
   ],
   "source": [
    "// Load the Sylvester abstract algebra package which contains the integer_algebra theory\n",
    "#r \"nuget: Sylvester.AbstractAlgebra\" "
   ]
  },
  {
   "cell_type": "code",
   "execution_count": 2,
   "metadata": {},
   "outputs": [
    {
     "name": "stdout",
     "output_type": "stream",
     "text": [
      "[Lemma] Proof of A: a ⋅ 0 ≡ B: a ⋅ 0 + 0:\n",
      "[Lemma] ⊢ a ⋅ 0 ≡ a ⋅ 0 + 0. [Axiom of Identity]\n",
      "[Lemma] Proof complete.\n",
      "\n",
      "[Lemma] Proof of A: 0 ≡ B: -(a ⋅ 0) + a ⋅ 0:\n",
      "[Lemma] 1. B is commutative: -(a ⋅ 0) + a ⋅ 0 ≡ a ⋅ 0 + -(a ⋅ 0).\n",
      "[Lemma] ⊢ 0 ≡ a ⋅ 0 + -(a ⋅ 0). [Definition of Inverse]\n",
      "[Lemma] Proof complete.\n",
      "\n",
      "Proof of A: a ⋅ 0 ≡ B: 0:\n",
      "1. Substitute a ⋅ 0 in A with a ⋅ 0 + 0.\n",
      "Proof incomplete. Current state: a ⋅ 0 + 0 ≡ 0.\n",
      "2. A is commutative: a ⋅ 0 + 0 ≡ 0 + a ⋅ 0.\n",
      "Proof incomplete. Current state: 0 + a ⋅ 0 ≡ 0.\n",
      "3. Substitute 0 in A with -(a ⋅ 0) + a ⋅ 0.\n",
      "Proof incomplete. Current state: -(a ⋅ 0) + a ⋅ 0 + a ⋅ 0 ≡ 0.\n",
      "4. Substitute 0 in A with -(a ⋅ 0) + a ⋅ 0.\n",
      "Proof incomplete. Current state: -(a ⋅ 0) + a ⋅ 0 + a ⋅ 0 ≡ -(a ⋅ 0) + a ⋅ 0.\n",
      "5. A is right-associative: -(a ⋅ 0) + a ⋅ 0 + a ⋅ 0 ≡ -(a ⋅ 0) + (a ⋅ 0 + a ⋅ 0).\n",
      "Proof incomplete. Current state: -(a ⋅ 0) + (a ⋅ 0 + a ⋅ 0) ≡ -(a ⋅ 0) + a ⋅ 0.\n",
      "6. Cancel equivalent terms on the LHS in A and B: (-(a ⋅ 0) + (a ⋅ 0 + a ⋅ 0), -(a ⋅ 0) + a ⋅ 0) ≡ (a ⋅ 0 + a ⋅ 0, a ⋅ 0).\n",
      "Proof incomplete. Current state: a ⋅ 0 + a ⋅ 0 ≡ a ⋅ 0.\n",
      "7. Collect multiplication terms distributed over addition in A: a ⋅ 0 + a ⋅ 0 ≡ a ⋅ (0 + 0).\n",
      "Proof incomplete. Current state: a ⋅ (0 + 0) ≡ a ⋅ 0.\n",
      "8. Reduce integer constants in A: a ⋅ (0 + 0) ≡ a ⋅ 0.\n",
      "⊢ a ⋅ 0 ≡ a ⋅ 0. [Logical Axiom of Equality]\n",
      "Proof complete.\n"
     ]
    }
   ],
   "source": [
    "open Sylvester\n",
    "open IntegerAlgebra \n",
    "\n",
    "// Declare some integer variables for use in formulae\n",
    "let a,b,c = var3<int>\n",
    "\n",
    "// Prove the identity a * 0 = 0 use the rules and axioms of integer algebra\n",
    "let p1 = proof <@ a * 0 = 0 @> integer_algebra [\n",
    "    // a * 0 = a * 0 + 0 is axiomatic in the integer_algebra theory.\n",
    "    let lemma1 = <@ a * 0 = a * 0 + 0 @> |> int_id_ax\n",
    "    \n",
    "    // 0 = -(a * 0 ) + (a * 0) can be proved in the integer_algebra theory.\n",
    "    let lemma2 = <@ 0 = -(a * 0) + (a * 0) @> |> int_id [Commute |> EntireB]\n",
    "    \n",
    "    // Substitute the identity in lemma1 into A\n",
    "    lemma1 |> EntireA\n",
    "    \n",
    "    // A is commutative\n",
    "    Commute |> EntireA\n",
    "    // Subsititute the identity in lemma2 into the left of A\n",
    "    lemma2 |> LeftA    \n",
    "    // Subsititute the identity in lemma2 into B\n",
    "    lemma2 |> EntireB\n",
    "    RightAssoc |> EntireA\n",
    "    LeftCancel |> AB\n",
    "    Collect |> EntireA\n",
    "    Reduce |> EntireA\n",
    "]"
   ]
  },
  {
   "cell_type": "markdown",
   "metadata": {},
   "source": [
    "Unlike other theorem provers Sylph does not require an external DSL or parser for expressing theorem statements, or an external interactive environment for creating and storing the state of proofs. Theorems are expressed as the equivalence of 2 formulas and a [formula](https://github.com/allisterb/Sylvester/blob/master/src/Lang/Sylvester.Prover/Formula.fs) is defined as any F# expression of a particular type for which a code quotation and full expression tree is available. Formulas in a theorem do not have to be logical formulas but any 2 valid F# expressions of the same type where it makes sense to reason about them equationally."
   ]
  },
  {
   "cell_type": "code",
   "execution_count": 3,
   "metadata": {},
   "outputs": [],
   "source": [
    "// Define a formula of interest using an ordinary function with the Formula attribute\n",
    "[<Formula>]\n",
    "let f1 x = 3 * x + 6 + 2 * x + 4\n",
    "\n",
    "// Or use an expression directly\n",
    "let f2 = <@ a * a + 6 * b + 5@>"
   ]
  },
  {
   "cell_type": "code",
   "execution_count": 4,
   "metadata": {},
   "outputs": [
    {
     "data": {
      "text/html": [
       "Lambda (x,\n",
       "        Call (None, op_Addition,\n",
       "              [Call (None, op_Addition,\n",
       "                     [Call (None, op_Addition,\n",
       "                            [Call (None, op_Multiply, [Value (3), x]), Value (6)]),\n",
       "                      Call (None, op_Multiply, [Value (2), x])]), Value (4)]))"
      ]
     },
     "execution_count": 4,
     "metadata": {},
     "output_type": "execute_result"
    }
   ],
   "source": [
    "// Each formula has a symbolic expression\n",
    "expand <@ f1 @>"
   ]
  },
  {
   "cell_type": "code",
   "execution_count": 5,
   "metadata": {},
   "outputs": [
    {
     "data": {
      "text/plain": [
       "a * a + 6 * b + 5"
      ]
     },
     "execution_count": 5,
     "metadata": {},
     "output_type": "execute_result"
    }
   ],
   "source": [
    "// And can also be decompiled to the F# source\n",
    "src f2"
   ]
  },
  {
   "cell_type": "markdown",
   "metadata": {},
   "source": [
    "Proofs are constructed according to the axioms and rules of [theories](https://github.com/allisterb/Sylvester/blob/master/src/Math/Sylvester.AbstractAlgebra/Theories/) which define the rules that can be used to match and transform formula expressions that preserve equivalence."
   ]
  },
  {
   "cell_type": "code",
   "execution_count": 6,
   "metadata": {},
   "outputs": [
    {
     "data": {
      "text/plain": [
       "True"
      ]
     },
     "execution_count": 6,
     "metadata": {},
     "output_type": "execute_result"
    }
   ],
   "source": [
    "//Some theorems are true axiomatically \n",
    "integer_algebra |- <@ (a + b) = (b + a) @>  "
   ]
  },
  {
   "cell_type": "code",
   "execution_count": 7,
   "metadata": {},
   "outputs": [
    {
     "name": "stdout",
     "output_type": "stream",
     "text": [
      "Proof of A: a + b + c ≡ B: a + (b + c):\n",
      "⊢ a + b + c ≡ a + (b + c). [Axiom of Associativity]\n",
      "Proof complete.\n"
     ]
    }
   ],
   "source": [
    "//Provable directly from axioms\n",
    "let t2 = ident <@ a + b + c = a + (b + c)@> integer_algebra []"
   ]
  },
  {
   "cell_type": "markdown",
   "metadata": {},
   "source": [
    "Axioms are pure functions or schemas that match patterns in primitive unary and binary formulas, which define a set of formulae that are always equivalent in a theory e.g an identity axiom for a theory is defined as:"
   ]
  },
  {
   "cell_type": "markdown",
   "metadata": {},
   "source": [
    "````fsharp\n",
    "/// x + 0 == x\n",
    "let (|Identity|_|) (op: Expr<'t->'t->'t>) (zero:Expr<'t>)   = \n",
    "    function\n",
    "    | Binary op (a1, z), a2 when sequal a1 a2 && sequal zero z -> Some (pattern_desc \"Identity\" <@ fun (x:'t) -> (%op) x (%zero) = (%zero) @>)\n",
    "    | _ -> None\n",
    "````"
   ]
  },
  {
   "cell_type": "code",
   "execution_count": 8,
   "metadata": {},
   "outputs": [
    {
     "data": {
      "text/plain": [
       "True"
      ]
     },
     "execution_count": 8,
     "metadata": {},
     "output_type": "execute_result"
    }
   ],
   "source": [
    "// True by the addition identity axiom\n",
    "integer_algebra |- <@ c + a + 0 = c + a @> "
   ]
  },
  {
   "cell_type": "markdown",
   "metadata": {},
   "source": [
    "Theores also contain rules that are valid ways to transform two formulas when they are not in a primitive unary or binary form. Theorems that two formulae are equivalent usully require a *proof* which is just a `list` of rule applications that must all be instances of rules defined only by the proof system."
   ]
  },
  {
   "cell_type": "code",
   "execution_count": 9,
   "metadata": {},
   "outputs": [
    {
     "name": "stdout",
     "output_type": "stream",
     "text": [
      "Proof of A: 2 ⋅ a + 5 + 3 ≡ B: 2 ⋅ a + 8:\n",
      "Proof incomplete. Current state: 2 ⋅ a + 5 + 3 ≡ 2 ⋅ a + 8.\n"
     ]
    }
   ],
   "source": [
    "// Not provable directly from axioms: 2a + 5 + 3 = 2a + 8 \n",
    "let p3 = proof <@ 2 * a + 5 + 3 = 2 * a + 8@> integer_algebra []"
   ]
  },
  {
   "cell_type": "code",
   "execution_count": 10,
   "metadata": {},
   "outputs": [
    {
     "name": "stdout",
     "output_type": "stream",
     "text": [
      "Proof of A: 2 ⋅ a + 5 + 3 ≡ B: 2 ⋅ a + 8:\n",
      "1. A is right-associative: 2 ⋅ a + 5 + 3 ≡ 2 ⋅ a + (5 + 3).\n",
      "Proof incomplete. Current state: 2 ⋅ a + (5 + 3) ≡ 2 ⋅ a + 8.\n",
      "2. Reduce integer constants in A: 2 ⋅ a + (5 + 3) ≡ 2 ⋅ a + 8.\n",
      "⊢ 2 ⋅ a + 8 ≡ 2 ⋅ a + 8. [Logical Axiom of Equality]\n",
      "Proof complete.\n"
     ]
    }
   ],
   "source": [
    "// Proof of 2a + 5 + 3 = 2a + 8 using two steps\n",
    "let p3 = proof <@ 2 * a + 5 + 3 = 2 * a + 8@> integer_algebra [\n",
    "        RightAssoc |> EntireA\n",
    "        Reduce |> EntireA\n",
    "    ]"
   ]
  },
  {
   "cell_type": "markdown",
   "metadata": {},
   "source": [
    "Rules are defined as recursive pure functions that preserve equivalence between two formulae e.g the rule of right associativity for arithmetic operators is implemented as:"
   ]
  },
  {
   "cell_type": "markdown",
   "metadata": {},
   "source": [
    "````fsharp\n",
    "let rec right_assoc =\n",
    "    function\n",
    "    | Add(Add(a1, a2), a3) -> <@@ %%a1 + (%%a2 + %%a3) @@>\n",
    "    | Subtract(Subtract(a1, a2), a3) -> <@@ %%a1 - (%%a2 + %%a3) @@>\n",
    "    | Multiply(Multiply(a1, a2), a3) -> <@@ %%a1 * (%%a2 * %%a3) @@>\n",
    "    | expr -> traverse expr right_assoc\n",
    "````"
   ]
  },
  {
   "cell_type": "code",
   "execution_count": 11,
   "metadata": {},
   "outputs": [
    {
     "data": {
      "text/html": [
       "<table><thead><tr><th>Item1</th><th>Item2</th></tr></thead><tbody><tr><td>2 * a + 5 + 3 = 2 * a + 8</td><td>2 * a + (5 + 3) = 2 * a + 8</td></tr></tbody></table>"
      ]
     },
     "execution_count": 11,
     "metadata": {},
     "output_type": "execute_result"
    }
   ],
   "source": [
    "// Apply the right_assoc rule to a formula expression and compare\n",
    "<@ 2 * a + 5 + 3 = 2 * a + 8@> |> src, <@ 2 * a + 5 + 3 = 2 * a + 8@> |> right_assoc |> src"
   ]
  },
  {
   "cell_type": "markdown",
   "metadata": {},
   "source": [
    "Rules are normal F# functions that can be chained together:"
   ]
  },
  {
   "cell_type": "code",
   "execution_count": 12,
   "metadata": {},
   "outputs": [
    {
     "data": {
      "text/plain": [
       "2 * a + 8 = 2 * a + 8"
      ]
     },
     "execution_count": 12,
     "metadata": {},
     "output_type": "execute_result"
    }
   ],
   "source": [
    "// Rules on formula expressions can be chained together.\n",
    "<@ 2 * a + 5 + 3 = 2 * a + 8@> |> right_assoc |> reduce_constants |> src "
   ]
  },
  {
   "cell_type": "markdown",
   "metadata": {},
   "source": [
    "In the above case we can see that identity is true since one can be transformed into another and we use these two rules in our proof."
   ]
  },
  {
   "cell_type": "code",
   "execution_count": 13,
   "metadata": {},
   "outputs": [
    {
     "data": {
      "text/html": [
       "<table><thead><tr><th><i>index</i></th><th>Item</th><th>Tag</th><th>IsEntireA</th><th>IsEntireB</th><th>IsLeftA</th><th>IsLeftB</th><th>IsRightA</th><th>IsRightB</th><th>IsAB</th><th>Rule</th><th>RuleName</th></tr></thead><tbody><tr><td>0</td><td>{ Sylvester.Rule+Rule: Item1: (expression) is right-associative, Item2: { Sylvester.IntegerAlgebra+RightAssoc@107:  }, Tag: 0, IsRule: True, IsSubst: False, Name: (expression) is right-associative, Apply: { Sylvester.IntegerAlgebra+RightAssoc@107:  } }</td><td>0</td><td>True</td><td>False</td><td>False</td><td>False</td><td>False</td><td>False</td><td>False</td><td>{ Sylvester.Rule+Rule: Item1: (expression) is right-associative, Item2: { Sylvester.IntegerAlgebra+RightAssoc@107:  }, Tag: 0, IsRule: True, IsSubst: False, Name: (expression) is right-associative, Apply: { Sylvester.IntegerAlgebra+RightAssoc@107:  } }</td><td>(expression) is right-associative</td></tr><tr><td>1</td><td>{ Sylvester.Rule+Rule: Item1: Reduce integer constants in (expression), Item2: { Sylvester.IntegerAlgebra+Reduce@101:  }, Tag: 0, IsRule: True, IsSubst: False, Name: Reduce integer constants in (expression), Apply: { Sylvester.IntegerAlgebra+Reduce@101:  } }</td><td>0</td><td>True</td><td>False</td><td>False</td><td>False</td><td>False</td><td>False</td><td>False</td><td>{ Sylvester.Rule+Rule: Item1: Reduce integer constants in (expression), Item2: { Sylvester.IntegerAlgebra+Reduce@101:  }, Tag: 0, IsRule: True, IsSubst: False, Name: Reduce integer constants in (expression), Apply: { Sylvester.IntegerAlgebra+Reduce@101:  } }</td><td>Reduce integer constants in (expression)</td></tr></tbody></table>"
      ]
     },
     "execution_count": 13,
     "metadata": {},
     "output_type": "execute_result"
    }
   ],
   "source": [
    "p3.Steps"
   ]
  },
  {
   "cell_type": "markdown",
   "metadata": {},
   "source": [
    "When a proof is constructed each step is checked and executed and the resulting state of the pair of formulae logged and stored. This is a longer proof using more rules of inference for integer algebra:"
   ]
  },
  {
   "cell_type": "code",
   "execution_count": 14,
   "metadata": {},
   "outputs": [
    {
     "name": "stdout",
     "output_type": "stream",
     "text": [
      "Proof of A: 3 ⋅ x + 6 + 2 ⋅ x + 4 ≡ B: 5 ⋅ x + 10:\n",
      "1. A is right-associative: 3 ⋅ x + 6 + 2 ⋅ x + 4 ≡ 3 ⋅ x + 6 + (2 ⋅ x + 4).\n",
      "Proof incomplete. Current state: 3 ⋅ x + 6 + (2 ⋅ x + 4) ≡ 5 ⋅ x + 10.\n",
      "2. A is commutative: 3 ⋅ x + 6 + (2 ⋅ x + 4) ≡ 3 ⋅ x + 6 + (4 + 2 ⋅ x).\n",
      "Proof incomplete. Current state: 3 ⋅ x + 6 + (4 + 2 ⋅ x) ≡ 5 ⋅ x + 10.\n",
      "3. A is right-associative: 3 ⋅ x + 6 + (4 + 2 ⋅ x) ≡ 3 ⋅ x + (6 + (4 + 2 ⋅ x)).\n",
      "Proof incomplete. Current state: 3 ⋅ x + (6 + (4 + 2 ⋅ x)) ≡ 5 ⋅ x + 10.\n",
      "4. A is left-associative: 3 ⋅ x + (6 + (4 + 2 ⋅ x)) ≡ 3 ⋅ x + (6 + 4 + 2 ⋅ x).\n",
      "Proof incomplete. Current state: 3 ⋅ x + (6 + 4 + 2 ⋅ x) ≡ 5 ⋅ x + 10.\n",
      "5. Reduce integer constants in A: 3 ⋅ x + (6 + 4 + 2 ⋅ x) ≡ 3 ⋅ x + (10 + 2 ⋅ x).\n",
      "Proof incomplete. Current state: 3 ⋅ x + (10 + 2 ⋅ x) ≡ 5 ⋅ x + 10.\n",
      "6. A is commutative: 3 ⋅ x + (10 + 2 ⋅ x) ≡ 3 ⋅ x + (2 ⋅ x + 10).\n",
      "Proof incomplete. Current state: 3 ⋅ x + (2 ⋅ x + 10) ≡ 5 ⋅ x + 10.\n",
      "7. A is left-associative: 3 ⋅ x + (2 ⋅ x + 10) ≡ 3 ⋅ x + 2 ⋅ x + 10.\n",
      "Proof incomplete. Current state: 3 ⋅ x + 2 ⋅ x + 10 ≡ 5 ⋅ x + 10.\n",
      "8. Collect multiplication terms distributed over addition in A: 3 ⋅ x + 2 ⋅ x + 10 ≡ x ⋅ (3 + 2) + 10.\n",
      "Proof incomplete. Current state: x ⋅ (3 + 2) + 10 ≡ 5 ⋅ x + 10.\n",
      "9. Reduce integer constants in A: x ⋅ (3 + 2) + 10 ≡ x ⋅ 5 + 10.\n",
      "Proof incomplete. Current state: x ⋅ 5 + 10 ≡ 5 ⋅ x + 10.\n",
      "10. A is commutative: x ⋅ 5 + 10 ≡ 5 ⋅ x + 10.\n",
      "⊢ 5 ⋅ x + 10 ≡ 5 ⋅ x + 10. [Logical Axiom of Equality]\n",
      "Proof complete.\n"
     ]
    }
   ],
   "source": [
    "// 3 * x + 6 + 2 * x + 4 = 5 * x + 10\n",
    "let p4 = proof <@ fun x -> 3 * x + 6 + 2 * x + 4 = 5 * x + 10 @> integer_algebra [\n",
    "    RightAssoc |> EntireA\n",
    "    Commute |> RightA\n",
    "    RightAssoc |> EntireA \n",
    "    LeftAssoc |> RightA\n",
    "    Reduce |> AB\n",
    "    Commute |> RightA\n",
    "    LeftAssoc |> EntireA\n",
    "    Collect |> LeftA\n",
    "    Reduce |> EntireA\n",
    "    Commute |> LeftA\n",
    "    ]"
   ]
  },
  {
   "cell_type": "code",
   "execution_count": 15,
   "metadata": {},
   "outputs": [
    {
     "data": {
      "text/html": [
       "<table><thead><tr><th>Item1</th><th>Item2</th><th>Item3</th></tr></thead><tbody><tr><td>{ Microsoft.FSharp.Quotations.FSharpExpr: CustomAttributes: [  ], Type: System.Int32 }</td><td>{ Microsoft.FSharp.Quotations.FSharpExpr: CustomAttributes: [  ], Type: System.Int32 }</td><td>6. A is commutative: 3 * x + (10 + 2 * x) == 3 * x + (2 * x + 10).</td></tr></tbody></table>"
      ]
     },
     "execution_count": 15,
     "metadata": {},
     "output_type": "execute_result"
    }
   ],
   "source": [
    "// Proof state after sixth step\n",
    "p4.State.[5]"
   ]
  },
  {
   "cell_type": "markdown",
   "metadata": {},
   "source": [
    "There are two kinds of rules: rules derived from axioms of a particular theory and a general substitution rule (derived from the axiom of symbolic equality) which says that in any proof a formula B can be substituted for a formula A when a proof exists for A = B in the same system. The substitution rule is what allows proofs to be created in stages e.g we can create a partial proof of the last theorem."
   ]
  },
  {
   "cell_type": "code",
   "execution_count": 16,
   "metadata": {},
   "outputs": [
    {
     "name": "stdout",
     "output_type": "stream",
     "text": [
      "Proof of A: 3 ⋅ x + 6 + 2 ⋅ x + 4 ≡ B: 5 ⋅ x + 10:\n",
      "1. A is right-associative: 3 ⋅ x + 6 + 2 ⋅ x + 4 ≡ 3 ⋅ x + 6 + (2 ⋅ x + 4).\n",
      "Proof incomplete. Current state: 3 ⋅ x + 6 + (2 ⋅ x + 4) ≡ 5 ⋅ x + 10.\n",
      "2. A is commutative: 3 ⋅ x + 6 + (2 ⋅ x + 4) ≡ 3 ⋅ x + 6 + (4 + 2 ⋅ x).\n",
      "Proof incomplete. Current state: 3 ⋅ x + 6 + (4 + 2 ⋅ x) ≡ 5 ⋅ x + 10.\n",
      "3. A is right-associative: 3 ⋅ x + 6 + (4 + 2 ⋅ x) ≡ 3 ⋅ x + (6 + (4 + 2 ⋅ x)).\n",
      "Proof incomplete. Current state: 3 ⋅ x + (6 + (4 + 2 ⋅ x)) ≡ 5 ⋅ x + 10.\n",
      "4. A is left-associative: 3 ⋅ x + (6 + (4 + 2 ⋅ x)) ≡ 3 ⋅ x + (6 + 4 + 2 ⋅ x).\n",
      "Proof incomplete. Current state: 3 ⋅ x + (6 + 4 + 2 ⋅ x) ≡ 5 ⋅ x + 10.\n",
      "5. Reduce integer constants in A: 3 ⋅ x + (6 + 4 + 2 ⋅ x) ≡ 3 ⋅ x + (10 + 2 ⋅ x).\n",
      "Proof incomplete. Current state: 3 ⋅ x + (10 + 2 ⋅ x) ≡ 5 ⋅ x + 10.\n"
     ]
    }
   ],
   "source": [
    "[<Formula>]\n",
    "let f4 x = 3 * x + 6 + 2 * x + 4 = 5 * x + 10 \n",
    "    \n",
    "let p5 = proof <@ f4 @> integer_algebra [\n",
    "    RightAssoc |> EntireA\n",
    "    Commute |> RightA\n",
    "    RightAssoc |> EntireA \n",
    "    LeftAssoc |> RightA\n",
    "    Reduce |> AB\n",
    "]"
   ]
  },
  {
   "cell_type": "markdown",
   "metadata": {},
   "source": [
    "If we then work on another proof which completes this proof we can join these two proofs together"
   ]
  },
  {
   "cell_type": "code",
   "execution_count": 17,
   "metadata": {},
   "outputs": [
    {
     "name": "stdout",
     "output_type": "stream",
     "text": [
      "Proof of A: 3 ⋅ x + (10 + 2 ⋅ x) ≡ B: 5 ⋅ x + 10:\n",
      "1. A is commutative: 3 ⋅ x + (10 + 2 ⋅ x) ≡ 3 ⋅ x + (2 ⋅ x + 10).\n",
      "Proof incomplete. Current state: 3 ⋅ x + (2 ⋅ x + 10) ≡ 5 ⋅ x + 10.\n",
      "2. A is left-associative: 3 ⋅ x + (2 ⋅ x + 10) ≡ 3 ⋅ x + 2 ⋅ x + 10.\n",
      "Proof incomplete. Current state: 3 ⋅ x + 2 ⋅ x + 10 ≡ 5 ⋅ x + 10.\n",
      "3. Collect multiplication terms distributed over addition in A: 3 ⋅ x + 2 ⋅ x + 10 ≡ x ⋅ (3 + 2) + 10.\n",
      "Proof incomplete. Current state: x ⋅ (3 + 2) + 10 ≡ 5 ⋅ x + 10.\n",
      "4. Reduce integer constants in A: x ⋅ (3 + 2) + 10 ≡ x ⋅ 5 + 10.\n",
      "Proof incomplete. Current state: x ⋅ 5 + 10 ≡ 5 ⋅ x + 10.\n",
      "5. A is commutative: x ⋅ 5 + 10 ≡ 5 ⋅ x + 10.\n",
      "⊢ 5 ⋅ x + 10 ≡ 5 ⋅ x + 10. [Logical Axiom of Equality]\n",
      "Proof complete.\n"
     ]
    }
   ],
   "source": [
    "let p6 = proof <@ fun x -> 3 * x + (10 + 2 * x) = 5 * x + 10 @> integer_algebra [    \n",
    "    Commute |> RightA\n",
    "    LeftAssoc |> EntireA\n",
    "    Collect |> LeftA\n",
    "    Reduce |> EntireA\n",
    "    Commute |> LeftA\n",
    "]"
   ]
  },
  {
   "cell_type": "code",
   "execution_count": 18,
   "metadata": {},
   "outputs": [
    {
     "name": "stdout",
     "output_type": "stream",
     "text": [
      "[Lemma] Proof of A: 3 ⋅ x + 6 + 2 ⋅ x + 4 ≡ B: 3 ⋅ x + (10 + 2 ⋅ x):\n",
      "[Lemma] 1. A is right-associative: 3 ⋅ x + 6 + 2 ⋅ x + 4 ≡ 3 ⋅ x + 6 + (2 ⋅ x + 4).\n",
      "[Lemma] Proof incomplete. Current state: 3 ⋅ x + 6 + (2 ⋅ x + 4) ≡ 3 ⋅ x + (10 + 2 ⋅ x).\n",
      "[Lemma] 2. A is commutative: 3 ⋅ x + 6 + (2 ⋅ x + 4) ≡ 3 ⋅ x + 6 + (4 + 2 ⋅ x).\n",
      "[Lemma] Proof incomplete. Current state: 3 ⋅ x + 6 + (4 + 2 ⋅ x) ≡ 3 ⋅ x + (10 + 2 ⋅ x).\n",
      "[Lemma] 3. A is right-associative: 3 ⋅ x + 6 + (4 + 2 ⋅ x) ≡ 3 ⋅ x + (6 + (4 + 2 ⋅ x)).\n",
      "[Lemma] Proof incomplete. Current state: 3 ⋅ x + (6 + (4 + 2 ⋅ x)) ≡ 3 ⋅ x + (10 + 2 ⋅ x).\n",
      "[Lemma] 4. A is left-associative: 3 ⋅ x + (6 + (4 + 2 ⋅ x)) ≡ 3 ⋅ x + (6 + 4 + 2 ⋅ x).\n",
      "[Lemma] Proof incomplete. Current state: 3 ⋅ x + (6 + 4 + 2 ⋅ x) ≡ 3 ⋅ x + (10 + 2 ⋅ x).\n",
      "[Lemma] 5. Reduce integer constants in A: 3 ⋅ x + (6 + 4 + 2 ⋅ x) ≡ 3 ⋅ x + (10 + 2 ⋅ x).\n",
      "[Lemma] ⊢ 3 ⋅ x + (10 + 2 ⋅ x) ≡ 3 ⋅ x + (10 + 2 ⋅ x). [Logical Axiom of Equality]\n",
      "[Lemma] Proof complete.\n",
      "\n",
      "Proof of A: 3 ⋅ x + 6 + 2 ⋅ x + 4 ≡ B: 5 ⋅ x + 10:\n",
      "1. Joining proof of 3 ⋅ x + 6 + 2 ⋅ x + 4 ≡ 3 ⋅ x + (10 + 2 ⋅ x) to proof of 3 ⋅ x + (10 + 2 ⋅ x) ≡ 5 ⋅ x + 10.\n",
      "Proof incomplete. Current state: 3 ⋅ x + (10 + 2 ⋅ x) ≡ 5 ⋅ x + 10.\n",
      "2. A is commutative: 3 ⋅ x + (10 + 2 ⋅ x) ≡ 3 ⋅ x + (2 ⋅ x + 10).\n",
      "Proof incomplete. Current state: 3 ⋅ x + (2 ⋅ x + 10) ≡ 5 ⋅ x + 10.\n",
      "3. A is left-associative: 3 ⋅ x + (2 ⋅ x + 10) ≡ 3 ⋅ x + 2 ⋅ x + 10.\n",
      "Proof incomplete. Current state: 3 ⋅ x + 2 ⋅ x + 10 ≡ 5 ⋅ x + 10.\n",
      "4. Collect multiplication terms distributed over addition in A: 3 ⋅ x + 2 ⋅ x + 10 ≡ x ⋅ (3 + 2) + 10.\n",
      "Proof incomplete. Current state: x ⋅ (3 + 2) + 10 ≡ 5 ⋅ x + 10.\n",
      "5. Reduce integer constants in A: x ⋅ (3 + 2) + 10 ≡ x ⋅ 5 + 10.\n",
      "Proof incomplete. Current state: x ⋅ 5 + 10 ≡ 5 ⋅ x + 10.\n",
      "6. A is commutative: x ⋅ 5 + 10 ≡ 5 ⋅ x + 10.\n",
      "⊢ 5 ⋅ x + 10 ≡ 5 ⋅ x + 10. [Logical Axiom of Equality]\n",
      "Proof complete.\n"
     ]
    }
   ],
   "source": [
    "// Join p5 and p6 together to complete the proof of f4\n",
    "let p7 = p5 + p6"
   ]
  },
  {
   "cell_type": "code",
   "execution_count": 19,
   "metadata": {},
   "outputs": [
    {
     "data": {
      "text/plain": [
       "True"
      ]
     },
     "execution_count": 19,
     "metadata": {},
     "output_type": "execute_result"
    }
   ],
   "source": [
    "p7 |- <@ f4 @>"
   ]
  },
  {
   "cell_type": "code",
   "execution_count": null,
   "metadata": {},
   "outputs": [],
   "source": []
  }
 ],
 "metadata": {
  "kernelspec": {
   "display_name": ".NET (F#)",
   "language": "F#",
   "name": ".net-fsharp"
  },
  "language": "fsharp",
  "language_info": {
   "file_extension": ".fs",
   "mimetype": "text/x-fsharp",
   "name": "C#",
   "pygments_lexer": "fsharp",
   "version": "4.5"
  }
 },
 "nbformat": 4,
 "nbformat_minor": 2
}
