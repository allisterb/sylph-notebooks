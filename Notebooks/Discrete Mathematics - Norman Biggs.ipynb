{
 "cells": [
  {
   "cell_type": "code",
   "execution_count": 1,
   "metadata": {},
   "outputs": [],
   "source": [
    "#r \"nuget: Sylvester.AbstractAlgebra\""
   ]
  },
  {
   "cell_type": "code",
   "execution_count": 2,
   "metadata": {},
   "outputs": [
    {
     "data": {
      "text/html": [
       "Installing package Sylvester.AbstractAlgebra.done!"
      ]
     },
     "metadata": {},
     "output_type": "display_data"
    },
    {
     "name": "stdout",
     "output_type": "stream",
     "text": [
      "=============== S T A R T ==========================================\n",
      ">>>> C:\\Users\\Allister\\.nuget\\packages\\sylvester.arithmetic\\0.2.4\\typeproviders\\fsharp41\\netstandard2.0\\Sylvester.Provider.Arithmetic.DesignTime.dll\n",
      "Using: C:\\Users\\Allister\\.nuget\\packages\\sylvester.arithmetic\\0.2.4\\typeproviders\\fsharp41\\netstandard2.0\\Sylvester.Provider.Arithmetic.DesignTime.dll\n"
     ]
    }
   ],
   "source": [
    "open Sylvester\n",
    "open IntegerAlgebra\n",
    "\n",
    "// Declare some integer variables for use in proofs\n",
    "let a,b,c = var3<int>"
   ]
  },
  {
   "cell_type": "code",
   "execution_count": 3,
   "metadata": {
    "scrolled": false
   },
   "outputs": [
    {
     "name": "stdout",
     "output_type": "stream",
     "text": [
      "[Lemma] Proof of A: a ⋅ 0 ≡ B: a ⋅ 0 + 0:\n",
      "[Lemma] ⊢ a ⋅ 0 ≡ a ⋅ 0 + 0. [Axiom of Identity]\n",
      "[Lemma] Proof complete.\n",
      "\n",
      "[Lemma] Proof of A: 0 ≡ B: -(a ⋅ 0) + a ⋅ 0:\n",
      "[Lemma] 1. B is commutative: -(a ⋅ 0) + a ⋅ 0 ≡ a ⋅ 0 + -(a ⋅ 0).\n",
      "[Lemma] ⊢ 0 ≡ a ⋅ 0 + -(a ⋅ 0). [Definition of Inverse]\n",
      "[Lemma] Proof complete.\n",
      "\n",
      "Proof of A: a ⋅ 0 ≡ B: 0:\n",
      "1. Substitute a ⋅ 0 in A with a ⋅ 0 + 0.\n",
      "Proof incomplete. Current state: a ⋅ 0 + 0 ≡ 0.\n",
      "2. A is commutative: a ⋅ 0 + 0 ≡ 0 + a ⋅ 0.\n",
      "Proof incomplete. Current state: 0 + a ⋅ 0 ≡ 0.\n",
      "3. Substitute 0 in A with -(a ⋅ 0) + a ⋅ 0.\n",
      "Proof incomplete. Current state: -(a ⋅ 0) + a ⋅ 0 + a ⋅ 0 ≡ 0.\n",
      "4. Substitute 0 in A with -(a ⋅ 0) + a ⋅ 0.\n",
      "Proof incomplete. Current state: -(a ⋅ 0) + a ⋅ 0 + a ⋅ 0 ≡ -(a ⋅ 0) + a ⋅ 0.\n",
      "5. A is right-associative: -(a ⋅ 0) + a ⋅ 0 + a ⋅ 0 ≡ -(a ⋅ 0) + (a ⋅ 0 + a ⋅ 0).\n",
      "Proof incomplete. Current state: -(a ⋅ 0) + (a ⋅ 0 + a ⋅ 0) ≡ -(a ⋅ 0) + a ⋅ 0.\n",
      "6. Cancel equivalent terms on the LHS in A and B: (-(a ⋅ 0) + (a ⋅ 0 + a ⋅ 0), -(a ⋅ 0) + a ⋅ 0) ≡ (a ⋅ 0 + a ⋅ 0, a ⋅ 0).\n",
      "Proof incomplete. Current state: a ⋅ 0 + a ⋅ 0 ≡ a ⋅ 0.\n",
      "7. Collect multiplication terms distributed over addition in A: a ⋅ 0 + a ⋅ 0 ≡ a ⋅ (0 + 0).\n",
      "Proof incomplete. Current state: a ⋅ (0 + 0) ≡ a ⋅ 0.\n",
      "8. Reduce integer constants in A: a ⋅ (0 + 0) ≡ a ⋅ 0.\n",
      "⊢ a ⋅ 0 ≡ a ⋅ 0. [Logical Axiom of Equality]\n",
      "Proof complete.\n"
     ]
    }
   ],
   "source": [
    "let t1 = ident <@ a * 0 = 0 @> integer_algebra [\n",
    "    let lemma1 = <@ a * 0 = a * 0 + 0 @> |> int_id_ax\n",
    "    let lemma2 = <@ 0 = -(a * 0) + (a * 0) @> |> int_id [Commute |> EntireB]\n",
    "    lemma1 |> EntireA\n",
    "    Commute |> EntireA\n",
    "    lemma2 |> LeftA    \n",
    "    lemma2 |> EntireB\n",
    "    RightAssoc |> EntireA\n",
    "    LeftCancel |> AB\n",
    "    Collect |> EntireA\n",
    "    Reduce |> EntireA\n",
    "]"
   ]
  },
  {
   "cell_type": "code",
   "execution_count": 4,
   "metadata": {},
   "outputs": [
    {
     "name": "stdout",
     "output_type": "stream",
     "text": [
      "Proof of A: m - -n == B: m + -(-n):\n",
      "|- m - -n == m + -(-n). [Integer Algebra Definition]\n",
      "Proof complete.\n"
     ]
    }
   ],
   "source": [
    "let lemma1 = int_id_ax_a <@ fun m n -> (m - (-n)) = (m + -(-n)) @>"
   ]
  },
  {
   "cell_type": "code",
   "execution_count": 5,
   "metadata": {},
   "outputs": [
    {
     "name": "stdout",
     "output_type": "stream",
     "text": [
      "Proof of A: -n + -(-n) == B: 0:\n",
      "|- -n + -(-n) == 0. [Integer Algebra Axiom of Inverse]\n",
      "Proof complete.\n"
     ]
    }
   ],
   "source": [
    "let lemma2 = <@ fun n -> (-n + -(-n)) = 0 @> |> ident_axiom integer_algebra |> Lemma"
   ]
  },
  {
   "cell_type": "code",
   "execution_count": 11,
   "metadata": {},
   "outputs": [
    {
     "name": "stdout",
     "output_type": "stream",
     "text": [
      "Proof of A: m - -n == B: m + n:\n",
      "1. Substitute m - -n in A with m + -(-n): m - -n == m + -(-n).\n",
      "Proof incomplete. Current state: m + -(-n) == m + n.\n"
     ]
    },
    {
     "data": {
      "text/html": [
       "<table><thead><tr><th>A</th><th>B</th><th>Theory</th><th>Steps</th><th>Complete</th><th>State</th><th>AState</th><th>BState</th><th>Subst</th><th>Log</th></tr></thead><tbody><tr><td>{ Microsoft.FSharp.Quotations.FSharpExpr: CustomAttributes: [  ], Type: System.Int32 }</td><td>{ Microsoft.FSharp.Quotations.FSharpExpr: CustomAttributes: [  ], Type: System.Int32 }</td><td>{ Sylvester.Theory: Axioms: { Sylvester.IntegerAlgebra+integer_algebra@116:  }, Rules: [ { Sylvester.Rule+Rule: Item1: Reduce integer constants in (expression), Item2: { Sylvester.IntegerAlgebra+Reduce@97:  }, Tag: 0, IsRule: True, IsSubst: False, Name: Reduce integer constants in (expression), Apply: { Sylvester.IntegerAlgebra+Reduce@97:  } }, { Sylvester.Rule+Rule: Item1: (expression) is left-associative, Item2: { Sylvester.IntegerAlgebra+LeftAssoc@100:  }, Tag: 0, IsRule: True, IsSubst: False, Name: (expression) is left-associative, Apply: { Sylvester.IntegerAlgebra+LeftAssoc@100:  } }, { Sylvester.Rule+Rule: Item1: (expression) is right-associative, Item2: { Sylvester.IntegerAlgebra+RightAssoc@103:  }, Tag: 0, IsRule: True, IsSubst: False, Name: (expression) is right-associative, Apply: { Sylvester.IntegerAlgebra+RightAssoc@103:  } }, { Sylvester.Rule+Rule: Item1: (expression) is commutative, Item2: { Sylvester.IntegerAlgebra+Commute@106:  }, Tag: 0, IsRule: True, IsSubst: False, Name: (expression) is commutative, Apply: { Sylvester.IntegerAlgebra+Commute@106:  } }, { Sylvester.Rule+Rule: Item1: Multiplication distributes over addition in (expression), Item2: { Sylvester.IntegerAlgebra+Distrib@109:  }, Tag: 0, IsRule: True, IsSubst: False, Name: Multiplication distributes over addition in (expression), Apply: { Sylvester.IntegerAlgebra+Distrib@109:  } }, { Sylvester.Rule+Rule: Item1: Collect multiplication terms distributed over addition in (expression), Item2: { Sylvester.IntegerAlgebra+Collect@112:  }, Tag: 0, IsRule: True, IsSubst: False, Name: Collect multiplication terms distributed over addition in (expression), Apply: { Sylvester.IntegerAlgebra+Collect@112:  } } ], FormulaPrinter: { Sylvester.IntegerAlgebra+integer_algebra@123-1:  } }</td><td>[ { Sylvester.RuleApplication+EntireA: Item: { Sylvester.Rule+Subst: Item1: Substitute m - -n in A with m + -(-n), Item2: { Sylvester.Proof: A: { Microsoft.FSharp.Quotations.FSharpExpr: CustomAttributes: [  ], Type: System.Int32 }, B: { Microsoft.FSharp.Quotations.FSharpExpr: CustomAttributes: [  ], Type: System.Int32 }, Theory: { Sylvester.Theory: Axioms: Sylvester.IntegerAlgebra+integer_algebra@116, Rules: [ Rule (&quot;Reduce integer constants in (expression)&quot;,&lt;fun:Reduce@97&gt;), Rule (&quot;(expression) is left-associative&quot;,&lt;fun:LeftAssoc@100&gt;), Rule (&quot;(expression) is right-associative&quot;,&lt;fun:RightAssoc@103&gt;), Rule (&quot;(expression) is commutative&quot;,&lt;fun:Commute@106&gt;), Rule\n",
       "  (&quot;Multiplication distributes over addition in (expression)&quot;,&lt;fun:Distrib@109&gt;), Rule\n",
       "  (&quot;Collect multiplication terms distributed over addition in (expression)&quot;,\n",
       "   &lt;fun:Collect@112&gt;) ], FormulaPrinter: Sylvester.IntegerAlgebra+integer_algebra@123-1 }, Steps: [  ], Complete: True, State: [  ], AState: { Microsoft.FSharp.Quotations.FSharpExpr: CustomAttributes: [  ], Type: System.Int32 }, BState: { Microsoft.FSharp.Quotations.FSharpExpr: CustomAttributes: [  ], Type: System.Int32 }, Subst: { &lt;StartupCode$Sylvester-Prover&gt;.$Proof+-ctor@156-30:  }, Log: { System.Text.StringBuilder: Capacity: 174, MaxCapacity: 2147483647, Length: 102 } }, Item3: { Sylvester.LogicalRules+Subst@256-4:  }, Tag: 1, IsRule: False, IsSubst: True, Name: Substitute m - -n in A with m + -(-n), Apply: { Microsoft.FSharp.Core.OptimizedClosures+Invoke@2697[[Microsoft.FSharp.Quotations.FSharpExpr, FSharp.Core, Version=5.0.0.0, Culture=neutral, PublicKeyToken=b03f5f7f11d50a3a],[Microsoft.FSharp.Quotations.FSharpExpr, FSharp.Core, Version=5.0.0.0, Culture=neutral, PublicKeyToken=b03f5f7f11d50a3a],[Sylvester.Proof, Sylvester.Prover, Version=0.2.0.0, Culture=neutral, PublicKeyToken=null]]: f: { Sylvester.LogicalRules+Subst@256-4:  }, t: { Sylvester.Proof: A: Call (None, op_Subtraction, [m, Call (None, op_UnaryNegation, [n])]), B: Call (None, op_Addition,\n",
       "      [m, Call (None, op_UnaryNegation, [Call (None, op_UnaryNegation, [n])])]), Theory: Sylvester.Theory, Steps: [  ], Complete: True, State: [  ], AState: Call (None, op_Subtraction, [m, Call (None, op_UnaryNegation, [n])]), BState: Call (None, op_Addition,\n",
       "      [m, Call (None, op_UnaryNegation, [Call (None, op_UnaryNegation, [n])])]), Subst: &lt;StartupCode$Sylvester-Prover&gt;.$Proof+-ctor@156-30, Log: Proof of A: m - -n == B: m + -(-n):|- m - -n == m + -(-n). [Integer Algebra Definition]Proof complete. } } }, Tag: 0, IsEntireA: True, IsEntireB: False, IsLeftA: False, IsLeftB: False, IsRightA: False, IsRightB: False, Rule: { Sylvester.Rule+Subst: Item1: Substitute m - -n in A with m + -(-n), Item2: { Sylvester.Proof: A: { Microsoft.FSharp.Quotations.FSharpExpr: CustomAttributes: [  ], Type: System.Int32 }, B: { Microsoft.FSharp.Quotations.FSharpExpr: CustomAttributes: [  ], Type: System.Int32 }, Theory: { Sylvester.Theory: Axioms: Sylvester.IntegerAlgebra+integer_algebra@116, Rules: [ Rule (&quot;Reduce integer constants in (expression)&quot;,&lt;fun:Reduce@97&gt;), Rule (&quot;(expression) is left-associative&quot;,&lt;fun:LeftAssoc@100&gt;), Rule (&quot;(expression) is right-associative&quot;,&lt;fun:RightAssoc@103&gt;), Rule (&quot;(expression) is commutative&quot;,&lt;fun:Commute@106&gt;), Rule\n",
       "  (&quot;Multiplication distributes over addition in (expression)&quot;,&lt;fun:Distrib@109&gt;), Rule\n",
       "  (&quot;Collect multiplication terms distributed over addition in (expression)&quot;,\n",
       "   &lt;fun:Collect@112&gt;) ], FormulaPrinter: Sylvester.IntegerAlgebra+integer_algebra@123-1 }, Steps: [  ], Complete: True, State: [  ], AState: { Microsoft.FSharp.Quotations.FSharpExpr: CustomAttributes: [  ], Type: System.Int32 }, BState: { Microsoft.FSharp.Quotations.FSharpExpr: CustomAttributes: [  ], Type: System.Int32 }, Subst: { &lt;StartupCode$Sylvester-Prover&gt;.$Proof+-ctor@156-30:  }, Log: { System.Text.StringBuilder: Capacity: 174, MaxCapacity: 2147483647, Length: 102 } }, Item3: { Sylvester.LogicalRules+Subst@256-4:  }, Tag: 1, IsRule: False, IsSubst: True, Name: Substitute m - -n in A with m + -(-n), Apply: { Microsoft.FSharp.Core.OptimizedClosures+Invoke@2697[[Microsoft.FSharp.Quotations.FSharpExpr, FSharp.Core, Version=5.0.0.0, Culture=neutral, PublicKeyToken=b03f5f7f11d50a3a],[Microsoft.FSharp.Quotations.FSharpExpr, FSharp.Core, Version=5.0.0.0, Culture=neutral, PublicKeyToken=b03f5f7f11d50a3a],[Sylvester.Proof, Sylvester.Prover, Version=0.2.0.0, Culture=neutral, PublicKeyToken=null]]: f: { Sylvester.LogicalRules+Subst@256-4:  }, t: { Sylvester.Proof: A: Call (None, op_Subtraction, [m, Call (None, op_UnaryNegation, [n])]), B: Call (None, op_Addition,\n",
       "      [m, Call (None, op_UnaryNegation, [Call (None, op_UnaryNegation, [n])])]), Theory: Sylvester.Theory, Steps: [  ], Complete: True, State: [  ], AState: Call (None, op_Subtraction, [m, Call (None, op_UnaryNegation, [n])]), BState: Call (None, op_Addition,\n",
       "      [m, Call (None, op_UnaryNegation, [Call (None, op_UnaryNegation, [n])])]), Subst: &lt;StartupCode$Sylvester-Prover&gt;.$Proof+-ctor@156-30, Log: Proof of A: m - -n == B: m + -(-n):|- m - -n == m + -(-n). [Integer Algebra Definition]Proof complete. } } }, RuleName: Substitute m - -n in A with m + -(-n) } ]</td><td>False</td><td>[ { System.Tuple&lt;Microsoft.FSharp.Quotations.FSharpExpr,Microsoft.FSharp.Quotations.FSharpExpr,System.String&gt;: Item1: { Microsoft.FSharp.Quotations.FSharpExpr: CustomAttributes: [  ], Type: System.Int32 }, Item2: { Microsoft.FSharp.Quotations.FSharpExpr: CustomAttributes: [  ], Type: System.Int32 }, Item3: 1. Substitute m - -n in A with m + -(-n): m - -n == m + -(-n). } ]</td><td>{ Microsoft.FSharp.Quotations.FSharpExpr: CustomAttributes: [  ], Type: System.Int32 }</td><td>{ Microsoft.FSharp.Quotations.FSharpExpr: CustomAttributes: [  ], Type: System.Int32 }</td><td>{ &lt;StartupCode$Sylvester-Prover&gt;.$Proof+-ctor@156-29: func1: { &lt;StartupCode$Sylvester-Prover&gt;.$Proof+-ctor@156-30:  }, func2: { &lt;StartupCode$Sylvester-Prover&gt;.$Proof+-ctor@156-32: objectArg: { Sylvester.RuleApplication+EntireA: Item: { Sylvester.Rule+Subst: Item1: Substitute m - -n in A with m + -(-n), Item2: { Sylvester.Proof: A: Call (None, op_Subtraction, [m, Call (None, op_UnaryNegation, [n])]), B: Call (None, op_Addition,\n",
       "      [m, Call (None, op_UnaryNegation, [Call (None, op_UnaryNegation, [n])])]), Theory: Sylvester.Theory, Steps: [  ], Complete: True, State: [  ], AState: Call (None, op_Subtraction, [m, Call (None, op_UnaryNegation, [n])]), BState: Call (None, op_Addition,\n",
       "      [m, Call (None, op_UnaryNegation, [Call (None, op_UnaryNegation, [n])])]), Subst: &lt;StartupCode$Sylvester-Prover&gt;.$Proof+-ctor@156-30, Log: Proof of A: m - -n == B: m + -(-n):|- m - -n == m + -(-n). [Integer Algebra Definition]Proof complete. }, Item3: { Sylvester.LogicalRules+Subst@256-4:  }, Tag: 1, IsRule: False, IsSubst: True, Name: Substitute m - -n in A with m + -(-n), Apply: { Microsoft.FSharp.Core.OptimizedClosures+Invoke@2697[Microsoft.FSharp.Quotations.FSharpExpr,Microsoft.FSharp.Quotations.FSharpExpr,Sylvester.Proof]: f: Sylvester.LogicalRules+Subst@256-4, t: Sylvester.Proof } }, Tag: 0, IsEntireA: True, IsEntireB: False, IsLeftA: False, IsLeftB: False, IsRightA: False, IsRightB: False, Rule: { Sylvester.Rule+Subst: Item1: Substitute m - -n in A with m + -(-n), Item2: { Sylvester.Proof: A: Call (None, op_Subtraction, [m, Call (None, op_UnaryNegation, [n])]), B: Call (None, op_Addition,\n",
       "      [m, Call (None, op_UnaryNegation, [Call (None, op_UnaryNegation, [n])])]), Theory: Sylvester.Theory, Steps: [  ], Complete: True, State: [  ], AState: Call (None, op_Subtraction, [m, Call (None, op_UnaryNegation, [n])]), BState: Call (None, op_Addition,\n",
       "      [m, Call (None, op_UnaryNegation, [Call (None, op_UnaryNegation, [n])])]), Subst: &lt;StartupCode$Sylvester-Prover&gt;.$Proof+-ctor@156-30, Log: Proof of A: m - -n == B: m + -(-n):|- m - -n == m + -(-n). [Integer Algebra Definition]Proof complete. }, Item3: { Sylvester.LogicalRules+Subst@256-4:  }, Tag: 1, IsRule: False, IsSubst: True, Name: Substitute m - -n in A with m + -(-n), Apply: { Microsoft.FSharp.Core.OptimizedClosures+Invoke@2697[Microsoft.FSharp.Quotations.FSharpExpr,Microsoft.FSharp.Quotations.FSharpExpr,Sylvester.Proof]: f: Sylvester.LogicalRules+Subst@256-4, t: Sylvester.Proof } }, RuleName: Substitute m - -n in A with m + -(-n) } } }</td><td>{ System.Text.StringBuilder: Capacity: 186, MaxCapacity: 2147483647, Length: 145 }</td></tr></tbody></table>"
      ]
     },
     "execution_count": 11,
     "metadata": {},
     "output_type": "execute_result"
    }
   ],
   "source": [
    "proof <@fun m n -> (m - (-n)) = (m + n)@> integer_algebra [\n",
    "    lemma1 |> EntireA\n",
    "]"
   ]
  },
  {
   "cell_type": "code",
   "execution_count": 4,
   "metadata": {},
   "outputs": [
    {
     "name": "stdout",
     "output_type": "stream",
     "text": [
      "[Lemma] Proof of A: b == B: b + 0:\n",
      "[Lemma] |- b == b + 0. [Axiom of Identity]\n",
      "[Lemma] Proof complete.\n",
      "[Lemma] Proof of A: c == B: c + 0:\n",
      "[Lemma] |- c == c + 0. [Axiom of Identity]\n",
      "[Lemma] Proof complete.\n",
      "[Lemma] Proof of A: 0 == B: a + -a:\n",
      "[Lemma] |- 0 == a + -a. [Axiom of Invertibility]\n",
      "[Lemma] Proof complete.\n",
      "Proof of A: a + b = a + c == B: b = c:\n",
      "|- a + b = a + c == b = c. [Axiom of Left Cancellation]\n",
      "Proof complete.\n"
     ]
    },
    {
     "data": {
      "text/html": [
       "<table><thead><tr><th>A</th><th>B</th><th>Theory</th><th>Steps</th><th>Complete</th><th>State</th><th>AState</th><th>BState</th><th>Subst</th><th>Log</th></tr></thead><tbody><tr><td>{ Microsoft.FSharp.Quotations.FSharpExpr: CustomAttributes: [  ], Type: System.Boolean }</td><td>{ Microsoft.FSharp.Quotations.FSharpExpr: CustomAttributes: [  ], Type: System.Boolean }</td><td>{ Sylvester.Theory: Axioms: { Sylvester.IntegerAlgebra+integer_algebra@119:  }, Rules: [ { Sylvester.Rule+Rule: Item1: Reduce integer constants in (expression), Item2: { Sylvester.IntegerAlgebra+Reduce@97:  }, Tag: 0, IsRule: True, IsSubst: False, Name: Reduce integer constants in (expression), Apply: { Sylvester.IntegerAlgebra+Reduce@97:  } }, { Sylvester.Rule+Rule: Item1: (expression) is left-associative, Item2: { Sylvester.IntegerAlgebra+LeftAssoc@100:  }, Tag: 0, IsRule: True, IsSubst: False, Name: (expression) is left-associative, Apply: { Sylvester.IntegerAlgebra+LeftAssoc@100:  } }, { Sylvester.Rule+Rule: Item1: (expression) is right-associative, Item2: { Sylvester.IntegerAlgebra+RightAssoc@103:  }, Tag: 0, IsRule: True, IsSubst: False, Name: (expression) is right-associative, Apply: { Sylvester.IntegerAlgebra+RightAssoc@103:  } }, { Sylvester.Rule+Rule: Item1: (expression) is commutative, Item2: { Sylvester.IntegerAlgebra+Commute@106:  }, Tag: 0, IsRule: True, IsSubst: False, Name: (expression) is commutative, Apply: { Sylvester.IntegerAlgebra+Commute@106:  } }, { Sylvester.Rule+Rule: Item1: Multiplication distributes over addition in (expression), Item2: { Sylvester.IntegerAlgebra+Distrib@109:  }, Tag: 0, IsRule: True, IsSubst: False, Name: Multiplication distributes over addition in (expression), Apply: { Sylvester.IntegerAlgebra+Distrib@109:  } }, { Sylvester.Rule+Rule: Item1: Collect multiplication terms distributed over addition in (expression), Item2: { Sylvester.IntegerAlgebra+Collect@112:  }, Tag: 0, IsRule: True, IsSubst: False, Name: Collect multiplication terms distributed over addition in (expression), Apply: { Sylvester.IntegerAlgebra+Collect@112:  } }, { Sylvester.Rule+Rule: Item1: Cancel equivalent terms on the LHS in (expression), Item2: { Sylvester.IntegerAlgebra+LeftCancel@115:  }, Tag: 0, IsRule: True, IsSubst: False, Name: Cancel equivalent terms on the LHS in (expression), Apply: { Sylvester.IntegerAlgebra+LeftCancel@115:  } } ], FormulaPrinter: { Sylvester.IntegerAlgebra+integer_algebra@127-1:  } }</td><td>[ { Sylvester.RuleApplication+EntireB: Item: { Sylvester.Rule+Subst: Item1: Substitute b in A with b + 0, Item2: { Sylvester.Proof: A: { Microsoft.FSharp.Quotations.FSharpExpr: CustomAttributes: [  ], Type: System.Int32 }, B: { Microsoft.FSharp.Quotations.FSharpExpr: CustomAttributes: [  ], Type: System.Int32 }, Theory: { Sylvester.Theory: Axioms: Sylvester.IntegerAlgebra+integer_algebra@119, Rules: [ Rule (&quot;Reduce integer constants in (expression)&quot;,&lt;fun:Reduce@97&gt;), Rule (&quot;(expression) is left-associative&quot;,&lt;fun:LeftAssoc@100&gt;), Rule (&quot;(expression) is right-associative&quot;,&lt;fun:RightAssoc@103&gt;), Rule (&quot;(expression) is commutative&quot;,&lt;fun:Commute@106&gt;), Rule\n",
       "  (&quot;Multiplication distributes over addition in (expression)&quot;,&lt;fun:Distrib@109&gt;), Rule\n",
       "  (&quot;Collect multiplication terms distributed over addition in (expression)&quot;,\n",
       "   &lt;fun:Collect@112&gt;), Rule (&quot;Cancel equivalent terms on the LHS in (expression)&quot;,&lt;fun:LeftCancel@115&gt;) ], FormulaPrinter: Sylvester.IntegerAlgebra+integer_algebra@127-1 }, Steps: [  ], Complete: True, State: [  ], AState: { Microsoft.FSharp.Quotations.FSharpExpr: CustomAttributes: [  ], Type: System.Int32 }, BState: { Microsoft.FSharp.Quotations.FSharpExpr: CustomAttributes: [  ], Type: System.Int32 }, Subst: { &lt;StartupCode$Sylvester-Prover&gt;.$Proof+-ctor@156-28:  }, Log: { System.Text.StringBuilder: Capacity: 128, MaxCapacity: 2147483647, Length: 75 } }, Item3: { Sylvester.LogicalRules+Subst@263-4:  }, Tag: 1, IsRule: False, IsSubst: True, Name: Substitute b in A with b + 0, Apply: { Microsoft.FSharp.Core.OptimizedClosures+Invoke@2697[[Microsoft.FSharp.Quotations.FSharpExpr, FSharp.Core, Version=5.0.0.0, Culture=neutral, PublicKeyToken=b03f5f7f11d50a3a],[Microsoft.FSharp.Quotations.FSharpExpr, FSharp.Core, Version=5.0.0.0, Culture=neutral, PublicKeyToken=b03f5f7f11d50a3a],[Sylvester.Proof, Sylvester.Prover, Version=0.2.0.0, Culture=neutral, PublicKeyToken=null]]: f: { Sylvester.LogicalRules+Subst@263-4:  }, t: { Sylvester.Proof: A: b, B: Call (None, op_Addition, [b, Value (0)]), Theory: Sylvester.Theory, Steps: [  ], Complete: True, State: [  ], AState: b, BState: Call (None, op_Addition, [b, Value (0)]), Subst: &lt;StartupCode$Sylvester-Prover&gt;.$Proof+-ctor@156-28, Log: Proof of A: b == B: b + 0:|- b == b + 0. [Axiom of Identity]Proof complete. } } }, Tag: 1, IsEntireA: False, IsEntireB: True, IsLeftA: False, IsLeftB: False, IsRightA: False, IsRightB: False, IsAB: False, Rule: { Sylvester.Rule+Subst: Item1: Substitute b in A with b + 0, Item2: { Sylvester.Proof: A: { Microsoft.FSharp.Quotations.FSharpExpr: CustomAttributes: [  ], Type: System.Int32 }, B: { Microsoft.FSharp.Quotations.FSharpExpr: CustomAttributes: [  ], Type: System.Int32 }, Theory: { Sylvester.Theory: Axioms: Sylvester.IntegerAlgebra+integer_algebra@119, Rules: [ Rule (&quot;Reduce integer constants in (expression)&quot;,&lt;fun:Reduce@97&gt;), Rule (&quot;(expression) is left-associative&quot;,&lt;fun:LeftAssoc@100&gt;), Rule (&quot;(expression) is right-associative&quot;,&lt;fun:RightAssoc@103&gt;), Rule (&quot;(expression) is commutative&quot;,&lt;fun:Commute@106&gt;), Rule\n",
       "  (&quot;Multiplication distributes over addition in (expression)&quot;,&lt;fun:Distrib@109&gt;), Rule\n",
       "  (&quot;Collect multiplication terms distributed over addition in (expression)&quot;,\n",
       "   &lt;fun:Collect@112&gt;), Rule (&quot;Cancel equivalent terms on the LHS in (expression)&quot;,&lt;fun:LeftCancel@115&gt;) ], FormulaPrinter: Sylvester.IntegerAlgebra+integer_algebra@127-1 }, Steps: [  ], Complete: True, State: [  ], AState: { Microsoft.FSharp.Quotations.FSharpExpr: CustomAttributes: [  ], Type: System.Int32 }, BState: { Microsoft.FSharp.Quotations.FSharpExpr: CustomAttributes: [  ], Type: System.Int32 }, Subst: { &lt;StartupCode$Sylvester-Prover&gt;.$Proof+-ctor@156-28:  }, Log: { System.Text.StringBuilder: Capacity: 128, MaxCapacity: 2147483647, Length: 75 } }, Item3: { Sylvester.LogicalRules+Subst@263-4:  }, Tag: 1, IsRule: False, IsSubst: True, Name: Substitute b in A with b + 0, Apply: { Microsoft.FSharp.Core.OptimizedClosures+Invoke@2697[[Microsoft.FSharp.Quotations.FSharpExpr, FSharp.Core, Version=5.0.0.0, Culture=neutral, PublicKeyToken=b03f5f7f11d50a3a],[Microsoft.FSharp.Quotations.FSharpExpr, FSharp.Core, Version=5.0.0.0, Culture=neutral, PublicKeyToken=b03f5f7f11d50a3a],[Sylvester.Proof, Sylvester.Prover, Version=0.2.0.0, Culture=neutral, PublicKeyToken=null]]: f: { Sylvester.LogicalRules+Subst@263-4:  }, t: { Sylvester.Proof: A: b, B: Call (None, op_Addition, [b, Value (0)]), Theory: Sylvester.Theory, Steps: [  ], Complete: True, State: [  ], AState: b, BState: Call (None, op_Addition, [b, Value (0)]), Subst: &lt;StartupCode$Sylvester-Prover&gt;.$Proof+-ctor@156-28, Log: Proof of A: b == B: b + 0:|- b == b + 0. [Axiom of Identity]Proof complete. } } }, RuleName: Substitute b in A with b + 0 }, { Sylvester.RuleApplication+EntireB: Item: { Sylvester.Rule+Subst: Item1: Substitute c in A with c + 0, Item2: { Sylvester.Proof: A: { Microsoft.FSharp.Quotations.FSharpExpr: CustomAttributes: [  ], Type: System.Int32 }, B: { Microsoft.FSharp.Quotations.FSharpExpr: CustomAttributes: [  ], Type: System.Int32 }, Theory: { Sylvester.Theory: Axioms: Sylvester.IntegerAlgebra+integer_algebra@119, Rules: [ Rule (&quot;Reduce integer constants in (expression)&quot;,&lt;fun:Reduce@97&gt;), Rule (&quot;(expression) is left-associative&quot;,&lt;fun:LeftAssoc@100&gt;), Rule (&quot;(expression) is right-associative&quot;,&lt;fun:RightAssoc@103&gt;), Rule (&quot;(expression) is commutative&quot;,&lt;fun:Commute@106&gt;), Rule\n",
       "  (&quot;Multiplication distributes over addition in (expression)&quot;,&lt;fun:Distrib@109&gt;), Rule\n",
       "  (&quot;Collect multiplication terms distributed over addition in (expression)&quot;,\n",
       "   &lt;fun:Collect@112&gt;), Rule (&quot;Cancel equivalent terms on the LHS in (expression)&quot;,&lt;fun:LeftCancel@115&gt;) ], FormulaPrinter: Sylvester.IntegerAlgebra+integer_algebra@127-1 }, Steps: [  ], Complete: True, State: [  ], AState: { Microsoft.FSharp.Quotations.FSharpExpr: CustomAttributes: [  ], Type: System.Int32 }, BState: { Microsoft.FSharp.Quotations.FSharpExpr: CustomAttributes: [  ], Type: System.Int32 }, Subst: { &lt;StartupCode$Sylvester-Prover&gt;.$Proof+-ctor@156-28:  }, Log: { System.Text.StringBuilder: Capacity: 128, MaxCapacity: 2147483647, Length: 75 } }, Item3: { Sylvester.LogicalRules+Subst@263-4:  }, Tag: 1, IsRule: False, IsSubst: True, Name: Substitute c in A with c + 0, Apply: { Microsoft.FSharp.Core.OptimizedClosures+Invoke@2697[[Microsoft.FSharp.Quotations.FSharpExpr, FSharp.Core, Version=5.0.0.0, Culture=neutral, PublicKeyToken=b03f5f7f11d50a3a],[Microsoft.FSharp.Quotations.FSharpExpr, FSharp.Core, Version=5.0.0.0, Culture=neutral, PublicKeyToken=b03f5f7f11d50a3a],[Sylvester.Proof, Sylvester.Prover, Version=0.2.0.0, Culture=neutral, PublicKeyToken=null]]: f: { Sylvester.LogicalRules+Subst@263-4:  }, t: { Sylvester.Proof: A: c, B: Call (None, op_Addition, [c, Value (0)]), Theory: Sylvester.Theory, Steps: [  ], Complete: True, State: [  ], AState: c, BState: Call (None, op_Addition, [c, Value (0)]), Subst: &lt;StartupCode$Sylvester-Prover&gt;.$Proof+-ctor@156-28, Log: Proof of A: c == B: c + 0:|- c == c + 0. [Axiom of Identity]Proof complete. } } }, Tag: 1, IsEntireA: False, IsEntireB: True, IsLeftA: False, IsLeftB: False, IsRightA: False, IsRightB: False, IsAB: False, Rule: { Sylvester.Rule+Subst: Item1: Substitute c in A with c + 0, Item2: { Sylvester.Proof: A: { Microsoft.FSharp.Quotations.FSharpExpr: CustomAttributes: [  ], Type: System.Int32 }, B: { Microsoft.FSharp.Quotations.FSharpExpr: CustomAttributes: [  ], Type: System.Int32 }, Theory: { Sylvester.Theory: Axioms: Sylvester.IntegerAlgebra+integer_algebra@119, Rules: [ Rule (&quot;Reduce integer constants in (expression)&quot;,&lt;fun:Reduce@97&gt;), Rule (&quot;(expression) is left-associative&quot;,&lt;fun:LeftAssoc@100&gt;), Rule (&quot;(expression) is right-associative&quot;,&lt;fun:RightAssoc@103&gt;), Rule (&quot;(expression) is commutative&quot;,&lt;fun:Commute@106&gt;), Rule\n",
       "  (&quot;Multiplication distributes over addition in (expression)&quot;,&lt;fun:Distrib@109&gt;), Rule\n",
       "  (&quot;Collect multiplication terms distributed over addition in (expression)&quot;,\n",
       "   &lt;fun:Collect@112&gt;), Rule (&quot;Cancel equivalent terms on the LHS in (expression)&quot;,&lt;fun:LeftCancel@115&gt;) ], FormulaPrinter: Sylvester.IntegerAlgebra+integer_algebra@127-1 }, Steps: [  ], Complete: True, State: [  ], AState: { Microsoft.FSharp.Quotations.FSharpExpr: CustomAttributes: [  ], Type: System.Int32 }, BState: { Microsoft.FSharp.Quotations.FSharpExpr: CustomAttributes: [  ], Type: System.Int32 }, Subst: { &lt;StartupCode$Sylvester-Prover&gt;.$Proof+-ctor@156-28:  }, Log: { System.Text.StringBuilder: Capacity: 128, MaxCapacity: 2147483647, Length: 75 } }, Item3: { Sylvester.LogicalRules+Subst@263-4:  }, Tag: 1, IsRule: False, IsSubst: True, Name: Substitute c in A with c + 0, Apply: { Microsoft.FSharp.Core.OptimizedClosures+Invoke@2697[[Microsoft.FSharp.Quotations.FSharpExpr, FSharp.Core, Version=5.0.0.0, Culture=neutral, PublicKeyToken=b03f5f7f11d50a3a],[Microsoft.FSharp.Quotations.FSharpExpr, FSharp.Core, Version=5.0.0.0, Culture=neutral, PublicKeyToken=b03f5f7f11d50a3a],[Sylvester.Proof, Sylvester.Prover, Version=0.2.0.0, Culture=neutral, PublicKeyToken=null]]: f: { Sylvester.LogicalRules+Subst@263-4:  }, t: { Sylvester.Proof: A: c, B: Call (None, op_Addition, [c, Value (0)]), Theory: Sylvester.Theory, Steps: [  ], Complete: True, State: [  ], AState: c, BState: Call (None, op_Addition, [c, Value (0)]), Subst: &lt;StartupCode$Sylvester-Prover&gt;.$Proof+-ctor@156-28, Log: Proof of A: c == B: c + 0:|- c == c + 0. [Axiom of Identity]Proof complete. } } }, RuleName: Substitute c in A with c + 0 }, { Sylvester.RuleApplication+EntireB: Item: { Sylvester.Rule+Subst: Item1: Substitute 0 in A with a + -a, Item2: { Sylvester.Proof: A: { Microsoft.FSharp.Quotations.FSharpExpr: CustomAttributes: [  ], Type: System.Int32 }, B: { Microsoft.FSharp.Quotations.FSharpExpr: CustomAttributes: [  ], Type: System.Int32 }, Theory: { Sylvester.Theory: Axioms: Sylvester.IntegerAlgebra+integer_algebra@119, Rules: [ Rule (&quot;Reduce integer constants in (expression)&quot;,&lt;fun:Reduce@97&gt;), Rule (&quot;(expression) is left-associative&quot;,&lt;fun:LeftAssoc@100&gt;), Rule (&quot;(expression) is right-associative&quot;,&lt;fun:RightAssoc@103&gt;), Rule (&quot;(expression) is commutative&quot;,&lt;fun:Commute@106&gt;), Rule\n",
       "  (&quot;Multiplication distributes over addition in (expression)&quot;,&lt;fun:Distrib@109&gt;), Rule\n",
       "  (&quot;Collect multiplication terms distributed over addition in (expression)&quot;,\n",
       "   &lt;fun:Collect@112&gt;), Rule (&quot;Cancel equivalent terms on the LHS in (expression)&quot;,&lt;fun:LeftCancel@115&gt;) ], FormulaPrinter: Sylvester.IntegerAlgebra+integer_algebra@127-1 }, Steps: [  ], Complete: True, State: [  ], AState: { Microsoft.FSharp.Quotations.FSharpExpr: CustomAttributes: [  ], Type: System.Int32 }, BState: { Microsoft.FSharp.Quotations.FSharpExpr: CustomAttributes: [  ], Type: System.Int32 }, Subst: { &lt;StartupCode$Sylvester-Prover&gt;.$Proof+-ctor@156-28:  }, Log: { System.Text.StringBuilder: Capacity: 134, MaxCapacity: 2147483647, Length: 82 } }, Item3: { Sylvester.LogicalRules+Subst@263-4:  }, Tag: 1, IsRule: False, IsSubst: True, Name: Substitute 0 in A with a + -a, Apply: { Microsoft.FSharp.Core.OptimizedClosures+Invoke@2697[[Microsoft.FSharp.Quotations.FSharpExpr, FSharp.Core, Version=5.0.0.0, Culture=neutral, PublicKeyToken=b03f5f7f11d50a3a],[Microsoft.FSharp.Quotations.FSharpExpr, FSharp.Core, Version=5.0.0.0, Culture=neutral, PublicKeyToken=b03f5f7f11d50a3a],[Sylvester.Proof, Sylvester.Prover, Version=0.2.0.0, Culture=neutral, PublicKeyToken=null]]: f: { Sylvester.LogicalRules+Subst@263-4:  }, t: { Sylvester.Proof: A: Value (0), B: Call (None, op_Addition, [a, Call (None, op_UnaryNegation, [a])]), Theory: Sylvester.Theory, Steps: [  ], Complete: True, State: [  ], AState: Value (0), BState: Call (None, op_Addition, [a, Call (None, op_UnaryNegation, [a])]), Subst: &lt;StartupCode$Sylvester-Prover&gt;.$Proof+-ctor@156-28, Log: Proof of A: 0 == B: a + -a:|- 0 == a + -a. [Axiom of Invertibility]Proof complete. } } }, Tag: 1, IsEntireA: False, IsEntireB: True, IsLeftA: False, IsLeftB: False, IsRightA: False, IsRightB: False, IsAB: False, Rule: { Sylvester.Rule+Subst: Item1: Substitute 0 in A with a + -a, Item2: { Sylvester.Proof: A: { Microsoft.FSharp.Quotations.FSharpExpr: CustomAttributes: [  ], Type: System.Int32 }, B: { Microsoft.FSharp.Quotations.FSharpExpr: CustomAttributes: [  ], Type: System.Int32 }, Theory: { Sylvester.Theory: Axioms: Sylvester.IntegerAlgebra+integer_algebra@119, Rules: [ Rule (&quot;Reduce integer constants in (expression)&quot;,&lt;fun:Reduce@97&gt;), Rule (&quot;(expression) is left-associative&quot;,&lt;fun:LeftAssoc@100&gt;), Rule (&quot;(expression) is right-associative&quot;,&lt;fun:RightAssoc@103&gt;), Rule (&quot;(expression) is commutative&quot;,&lt;fun:Commute@106&gt;), Rule\n",
       "  (&quot;Multiplication distributes over addition in (expression)&quot;,&lt;fun:Distrib@109&gt;), Rule\n",
       "  (&quot;Collect multiplication terms distributed over addition in (expression)&quot;,\n",
       "   &lt;fun:Collect@112&gt;), Rule (&quot;Cancel equivalent terms on the LHS in (expression)&quot;,&lt;fun:LeftCancel@115&gt;) ], FormulaPrinter: Sylvester.IntegerAlgebra+integer_algebra@127-1 }, Steps: [  ], Complete: True, State: [  ], AState: { Microsoft.FSharp.Quotations.FSharpExpr: CustomAttributes: [  ], Type: System.Int32 }, BState: { Microsoft.FSharp.Quotations.FSharpExpr: CustomAttributes: [  ], Type: System.Int32 }, Subst: { &lt;StartupCode$Sylvester-Prover&gt;.$Proof+-ctor@156-28:  }, Log: { System.Text.StringBuilder: Capacity: 134, MaxCapacity: 2147483647, Length: 82 } }, Item3: { Sylvester.LogicalRules+Subst@263-4:  }, Tag: 1, IsRule: False, IsSubst: True, Name: Substitute 0 in A with a + -a, Apply: { Microsoft.FSharp.Core.OptimizedClosures+Invoke@2697[[Microsoft.FSharp.Quotations.FSharpExpr, FSharp.Core, Version=5.0.0.0, Culture=neutral, PublicKeyToken=b03f5f7f11d50a3a],[Microsoft.FSharp.Quotations.FSharpExpr, FSharp.Core, Version=5.0.0.0, Culture=neutral, PublicKeyToken=b03f5f7f11d50a3a],[Sylvester.Proof, Sylvester.Prover, Version=0.2.0.0, Culture=neutral, PublicKeyToken=null]]: f: { Sylvester.LogicalRules+Subst@263-4:  }, t: { Sylvester.Proof: A: Value (0), B: Call (None, op_Addition, [a, Call (None, op_UnaryNegation, [a])]), Theory: Sylvester.Theory, Steps: [  ], Complete: True, State: [  ], AState: Value (0), BState: Call (None, op_Addition, [a, Call (None, op_UnaryNegation, [a])]), Subst: &lt;StartupCode$Sylvester-Prover&gt;.$Proof+-ctor@156-28, Log: Proof of A: 0 == B: a + -a:|- 0 == a + -a. [Axiom of Invertibility]Proof complete. } } }, RuleName: Substitute 0 in A with a + -a }, { Sylvester.RuleApplication+LeftB: Item: { Sylvester.Rule+Rule: Item1: (expression) is left-associative, Item2: { Sylvester.IntegerAlgebra+LeftAssoc@100:  }, Tag: 0, IsRule: True, IsSubst: False, Name: (expression) is left-associative, Apply: { Sylvester.IntegerAlgebra+LeftAssoc@100:  } }, Tag: 3, IsEntireA: False, IsEntireB: False, IsLeftA: False, IsLeftB: True, IsRightA: False, IsRightB: False, IsAB: False, Rule: { Sylvester.Rule+Rule: Item1: (expression) is left-associative, Item2: { Sylvester.IntegerAlgebra+LeftAssoc@100:  }, Tag: 0, IsRule: True, IsSubst: False, Name: (expression) is left-associative, Apply: { Sylvester.IntegerAlgebra+LeftAssoc@100:  } }, RuleName: (expression) is left-associative }, { Sylvester.RuleApplication+LeftB: Item: { Sylvester.Rule+Rule: Item1: (expression) is left-associative, Item2: { Sylvester.IntegerAlgebra+LeftAssoc@100:  }, Tag: 0, IsRule: True, IsSubst: False, Name: (expression) is left-associative, Apply: { Sylvester.IntegerAlgebra+LeftAssoc@100:  } }, Tag: 3, IsEntireA: False, IsEntireB: False, IsLeftA: False, IsLeftB: True, IsRightA: False, IsRightB: False, IsAB: False, Rule: { Sylvester.Rule+Rule: Item1: (expression) is left-associative, Item2: { Sylvester.IntegerAlgebra+LeftAssoc@100:  }, Tag: 0, IsRule: True, IsSubst: False, Name: (expression) is left-associative, Apply: { Sylvester.IntegerAlgebra+LeftAssoc@100:  } }, RuleName: (expression) is left-associative } ]</td><td>True</td><td>[  ]</td><td>{ Microsoft.FSharp.Quotations.FSharpExpr: CustomAttributes: [  ], Type: System.Boolean }</td><td>{ Microsoft.FSharp.Quotations.FSharpExpr: CustomAttributes: [  ], Type: System.Boolean }</td><td>{ &lt;StartupCode$Sylvester-Prover&gt;.$Proof+-ctor@156-27: func1: { &lt;StartupCode$Sylvester-Prover&gt;.$Proof+-ctor@156-27: func1: { &lt;StartupCode$Sylvester-Prover&gt;.$Proof+-ctor@156-27: func1: { &lt;StartupCode$Sylvester-Prover&gt;.$Proof+-ctor@156-27: func1: { &lt;StartupCode$Sylvester-Prover&gt;.$Proof+-ctor@156-27: func1: &lt;StartupCode$Sylvester-Prover&gt;.$Proof+-ctor@156-28, func2: &lt;StartupCode$Sylvester-Prover&gt;.$Proof+-ctor@156-30 }, func2: { &lt;StartupCode$Sylvester-Prover&gt;.$Proof+-ctor@156-30: objectArg: EntireB\n",
       "  (Subst (&quot;Substitute c in A with c + 0&quot;,Sylvester.Proof,&lt;fun:Subst@263-4&gt;)) } }, func2: { &lt;StartupCode$Sylvester-Prover&gt;.$Proof+-ctor@156-30: objectArg: { Sylvester.RuleApplication+EntireB: Item: Subst (&quot;Substitute 0 in A with a + -a&quot;,Sylvester.Proof,&lt;fun:Subst@263-4&gt;), Tag: 1, IsEntireA: False, IsEntireB: True, IsLeftA: False, IsLeftB: False, IsRightA: False, IsRightB: False, IsAB: False, Rule: Subst (&quot;Substitute 0 in A with a + -a&quot;,Sylvester.Proof,&lt;fun:Subst@263-4&gt;), RuleName: Substitute 0 in A with a + -a } } }, func2: { &lt;StartupCode$Sylvester-Prover&gt;.$Proof+-ctor@156-30: objectArg: { Sylvester.RuleApplication+LeftB: Item: { Sylvester.Rule+Rule: Item1: (expression) is left-associative, Item2: Sylvester.IntegerAlgebra+LeftAssoc@100, Tag: 0, IsRule: True, IsSubst: False, Name: (expression) is left-associative, Apply: Sylvester.IntegerAlgebra+LeftAssoc@100 }, Tag: 3, IsEntireA: False, IsEntireB: False, IsLeftA: False, IsLeftB: True, IsRightA: False, IsRightB: False, IsAB: False, Rule: { Sylvester.Rule+Rule: Item1: (expression) is left-associative, Item2: Sylvester.IntegerAlgebra+LeftAssoc@100, Tag: 0, IsRule: True, IsSubst: False, Name: (expression) is left-associative, Apply: Sylvester.IntegerAlgebra+LeftAssoc@100 }, RuleName: (expression) is left-associative } } }, func2: { &lt;StartupCode$Sylvester-Prover&gt;.$Proof+-ctor@156-30: objectArg: { Sylvester.RuleApplication+LeftB: Item: { Sylvester.Rule+Rule: Item1: (expression) is left-associative, Item2: { Sylvester.IntegerAlgebra+LeftAssoc@100:  }, Tag: 0, IsRule: True, IsSubst: False, Name: (expression) is left-associative, Apply: { Sylvester.IntegerAlgebra+LeftAssoc@100:  } }, Tag: 3, IsEntireA: False, IsEntireB: False, IsLeftA: False, IsLeftB: True, IsRightA: False, IsRightB: False, IsAB: False, Rule: { Sylvester.Rule+Rule: Item1: (expression) is left-associative, Item2: { Sylvester.IntegerAlgebra+LeftAssoc@100:  }, Tag: 0, IsRule: True, IsSubst: False, Name: (expression) is left-associative, Apply: { Sylvester.IntegerAlgebra+LeftAssoc@100:  } }, RuleName: (expression) is left-associative } } }</td><td>{ System.Text.StringBuilder: Capacity: 186, MaxCapacity: 2147483647, Length: 108 }</td></tr></tbody></table>"
      ]
     },
     "execution_count": 4,
     "metadata": {},
     "output_type": "execute_result"
    }
   ],
   "source": [
    "proof <@ fun a b c -> ((a + b) = (a + c)) = (b = c)  @>  integer_algebra [\n",
    "    <@ fun b -> b = b + 0 @> |> int_id_ax_b\n",
    "    <@ fun c -> c = c + 0 @> |> int_id_ax_b\n",
    "    <@ fun a -> 0 = a + (-a) @> |> int_id_ax_b\n",
    "    LeftAssoc |> LeftB\n",
    "    LeftAssoc |> LeftB\n",
    "]\n"
   ]
  },
  {
   "cell_type": "code",
   "execution_count": null,
   "metadata": {},
   "outputs": [],
   "source": []
  }
 ],
 "metadata": {
  "kernelspec": {
   "display_name": ".NET (F#)",
   "language": "F#",
   "name": ".net-fsharp"
  },
  "language": "fsharp",
  "language_info": {
   "file_extension": ".fs",
   "mimetype": "text/x-fsharp",
   "name": "C#",
   "pygments_lexer": "fsharp",
   "version": "4.5"
  }
 },
 "nbformat": 4,
 "nbformat_minor": 2
}
