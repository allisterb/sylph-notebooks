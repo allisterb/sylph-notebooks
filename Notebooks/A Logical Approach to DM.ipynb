{
 "cells": [
  {
   "cell_type": "code",
   "execution_count": 1,
   "metadata": {
    "hide_input": false
   },
   "outputs": [],
   "source": [
    "#r \"nuget: Sylph\""
   ]
  },
  {
   "cell_type": "markdown",
   "metadata": {
    "hide_input": true
   },
   "source": [
    "## A Logical Approach to Discrete Math"
   ]
  },
  {
   "cell_type": "code",
   "execution_count": 2,
   "metadata": {},
   "outputs": [
    {
     "data": {
      "text/html": [
       "Installing package Sylph.done!"
      ]
     },
     "metadata": {},
     "output_type": "display_data"
    }
   ],
   "source": [
    "open Sylvester\n",
    "open PropCalculus\n",
    "let p,q,r = var3<bool>"
   ]
  },
  {
   "cell_type": "code",
   "execution_count": 3,
   "metadata": {},
   "outputs": [
    {
     "name": "stdout",
     "output_type": "stream",
     "text": [
      "Proof of A: p = q = q = p ≡ B: true:\n",
      "1. Logical operators in A are right-associative: p = q = q = p ≡ p = q = (q = p).\n",
      "⊢ p = q = (q = p) ≡ true. [Axiom of Commutativity]\n",
      "Proof complete.\n"
     ]
    }
   ],
   "source": [
    "// Theorem 3.2\n",
    "let t_3_2 = theorem <@ p = q = q = p @> prop_calculus [\n",
    "    RightAssoc |> EntireA\n",
    "]"
   ]
  },
  {
   "cell_type": "code",
   "execution_count": 4,
   "metadata": {},
   "outputs": [
    {
     "name": "stdout",
     "output_type": "stream",
     "text": [
      "Proof of A: ¬ p = q = p = ¬ q ≡ B: true:\n",
      "1. Collect distributed logical terms in A: ¬ p = q = p = ¬ q ≡ ¬ (p = q) = p = ¬ q.\n",
      "Proof incomplete. Current state: ¬ (p = q) = p = ¬ q ≡ true.\n",
      "2. Logical operators in A are right-associative: ¬ (p = q) = p = ¬ q ≡ ¬ (p = q) = (p = ¬ q).\n",
      "Proof incomplete. Current state: ¬ (p = q) = (p = ¬ q) ≡ true.\n",
      "3. Logical operators in A are commutative: ¬ (p = q) = (p = ¬ q) ≡ ¬ (p = q) = (¬ q = p).\n",
      "Proof incomplete. Current state: ¬ (p = q) = (¬ q = p) ≡ true.\n",
      "4. Collect distributed logical terms in A: ¬ (p = q) = (¬ q = p) ≡ ¬ (p = q) = ¬ (q = p).\n",
      "Proof incomplete. Current state: ¬ (p = q) = ¬ (q = p) ≡ true.\n",
      "5. Logical operators in A are commutative: ¬ (p = q) = ¬ (q = p) ≡ ¬ (p = q) = ¬ (p = q).\n",
      "⊢ ¬ (p = q) = ¬ (p = q) ≡ true. [Definition]\n",
      "Proof complete.\n"
     ]
    }
   ],
   "source": [
    "// Theorem 3.11\n",
    "let t_3_11 = theorem <@ not p = q = p = not q @> prop_calculus [\n",
    "        Collect |> LeftA\n",
    "        RightAssoc |> EntireA\n",
    "        Commute |> RightA\n",
    "        Collect |> RightA\n",
    "        Commute |> RightA\n",
    "    ] "
   ]
  },
  {
   "cell_type": "code",
   "execution_count": 5,
   "metadata": {},
   "outputs": [
    {
     "name": "stdout",
     "output_type": "stream",
     "text": [
      "[Lemma] Proof of A: p = p ≡ B: true:\n",
      "[Lemma] ⊢ p = p ≡ true. [Definition]\n",
      "[Lemma] Proof complete.\n",
      "\n",
      "[Lemma] Proof of A: ¬ p = p ≡ B: false:\n",
      "[Lemma] 1. Collect distributed logical terms in A: ¬ p = p ≡ ¬ (p = p).\n",
      "[Lemma] Proof incomplete. Current state: ¬ (p = p) ≡ false.\n",
      "[Lemma] 2. Substitute p = p in A with true.\n",
      "[Lemma] ⊢ ¬ true ≡ false. [Definition of false]\n",
      "[Lemma] Proof complete.\n",
      "\n",
      "Proof of A: ¬ (¬ p) = p ≡ B: true:\n",
      "1. Collect distributed logical terms in A: ¬ (¬ p) = p ≡ ¬ (¬ p = p).\n",
      "Proof incomplete. Current state: ¬ (¬ p = p) ≡ true.\n",
      "2. Substitute ¬ p = p in A with false.\n",
      "⊢ ¬ false ≡ true. [Definition of true]\n",
      "Proof complete.\n"
     ]
    }
   ],
   "source": [
    "// Lemma1\n",
    "let lemma_3_12_1 = <@ not p = p @> |> contr_lem prop_calculus [\n",
    "     Collect |> EntireA\n",
    "     <@ (p = p) = true @> |> id_ax prop_calculus |> EntireA\n",
    "]\n",
    "\n",
    "// Theorem 3.12 \n",
    "let t_3_12 = theorem <@ not (not p) = p @> prop_calculus [\n",
    "    Collect |> EntireA\n",
    "    lemma_3_12_1 |> EntireA\n",
    "]"
   ]
  },
  {
   "cell_type": "code",
   "execution_count": 6,
   "metadata": {},
   "outputs": [
    {
     "name": "stdout",
     "output_type": "stream",
     "text": [
      "Proof of A: ¬ false ≡ B: true:\n",
      "⊢ ¬ false ≡ true. [Definition of true]\n",
      "Proof complete.\n"
     ]
    }
   ],
   "source": [
    "// Theorem 3.13\n",
    "let t_3_13 = ident <@ not false = true @> prop_calculus []"
   ]
  },
  {
   "cell_type": "code",
   "execution_count": 7,
   "metadata": {},
   "outputs": [
    {
     "name": "stdout",
     "output_type": "stream",
     "text": [
      "Proof of A: p <> q = ¬ p = q ≡ B: true:\n",
      "1. Logical operators in A are right-associative: p <> q = ¬ p = q ≡ p <> q = (¬ p = q).\n",
      "Proof incomplete. Current state: p <> q = (¬ p = q) ≡ true.\n",
      "2. Collect distributed logical terms in A: p <> q = (¬ p = q) ≡ p <> q = ¬ (p = q).\n",
      "⊢ p <> q = ¬ (p = q) ≡ true. [Definition of (<>)]\n",
      "Proof complete.\n"
     ]
    }
   ],
   "source": [
    "// Theorem 3.14\n",
    "let t_3_14 = theorem <@ (p <> q) = not p = q @> prop_calculus [\n",
    "    RightAssoc |> EntireA\n",
    "    Collect |> EntireA\n",
    "]"
   ]
  },
  {
   "cell_type": "code",
   "execution_count": 8,
   "metadata": {},
   "outputs": [
    {
     "name": "stdout",
     "output_type": "stream",
     "text": [
      "[Lemma] Proof of A: p = p ≡ B: true:\n",
      "[Lemma] ⊢ p = p ≡ true. [Definition]\n",
      "[Lemma] Proof complete.\n",
      "\n",
      "Proof of A: ¬ p = p ≡ B: false:\n",
      "1. Collect distributed logical terms in A: ¬ p = p ≡ ¬ (p = p).\n",
      "Proof incomplete. Current state: ¬ (p = p) ≡ false.\n",
      "2. Substitute p = p in A with true.\n",
      "⊢ ¬ true ≡ false. [Definition of false]\n",
      "Proof complete.\n"
     ]
    }
   ],
   "source": [
    "// Theorem 3.15\n",
    "let t_3_15 = contr <@ not p = p @> prop_calculus [\n",
    "    Collect |> EntireA\n",
    "    <@ (p = p) = true @> |> eq_id_ax_a\n",
    "]"
   ]
  },
  {
   "cell_type": "code",
   "execution_count": 9,
   "metadata": {},
   "outputs": [
    {
     "name": "stdout",
     "output_type": "stream",
     "text": [
      "Proof of A: p <> q = (q <> p) ≡ B: true:\n",
      "⊢ p <> q = (q <> p) ≡ true. [Axiom of Commutativity]\n",
      "Proof complete.\n"
     ]
    }
   ],
   "source": [
    "// Theorem 3.16\n",
    "let t_3_16 = theorem <@ (p <> q) = (q <> p) @> prop_calculus []"
   ]
  },
  {
   "cell_type": "code",
   "execution_count": 10,
   "metadata": {},
   "outputs": [
    {
     "name": "stdout",
     "output_type": "stream",
     "text": [
      "[Lemma] Proof of A: p <> q ≡ B: ¬ (p = q):\n",
      "[Lemma] ⊢ p <> q ≡ ¬ (p = q). [Definition of (<>)]\n",
      "[Lemma] Proof complete.\n",
      "\n",
      "[Lemma] Proof of A: q <> r ≡ B: ¬ (q = r):\n",
      "[Lemma] ⊢ q <> r ≡ ¬ (q = r). [Definition of (<>)]\n",
      "[Lemma] Proof complete.\n",
      "\n",
      "Proof of A: p <> q <> r ≡ B: p <> (q <> r):\n",
      "⊢ p <> q <> r ≡ p <> (q <> r). [Axiom of Associativity]\n",
      "Proof complete.\n"
     ]
    }
   ],
   "source": [
    "// Theorem 3.17\n",
    "let t_3_17_1 = <@ (p <> q) = not (p = q)@> |> id_ax prop_calculus\n",
    "let t_3_17_2 = <@ (q <> r) = not (q = r)@> |> id_ax prop_calculus\n",
    "\n",
    "let t_3_17 = proof <@ ((p <> q) <> r) = (p <> (q <> r)) @> prop_calculus [\n",
    "    t_3_17_1 |> EntireA\n",
    "    t_3_17_2 |> EntireB\n",
    "    Commute |> LeftA\n",
    "]"
   ]
  },
  {
   "cell_type": "code",
   "execution_count": 11,
   "metadata": {},
   "outputs": [
    {
     "name": "stdout",
     "output_type": "stream",
     "text": [
      "[Lemma] Proof of A: p = p ≡ B: true:\n",
      "[Lemma] ⊢ p = p ≡ true. [Definition]\n",
      "[Lemma] Proof complete.\n",
      "\n",
      "Proof of A: ¬ p = p ≡ B: false:\n",
      "1. Collect distributed logical terms in A: ¬ p = p ≡ ¬ (p = p).\n",
      "Proof incomplete. Current state: ¬ (p = p) ≡ false.\n",
      "2. Substitute p = p in A with true.\n",
      "⊢ ¬ true ≡ false. [Definition of false]\n",
      "Proof complete.\n"
     ]
    }
   ],
   "source": [
    "let t = contr <@ not p = p @> prop_calculus [\n",
    "    Collect |> EntireA\n",
    "    <@ (p = p) = true @> |> eq_id_ax_a\n",
    "]"
   ]
  },
  {
   "cell_type": "code",
   "execution_count": null,
   "metadata": {},
   "outputs": [],
   "source": []
  }
 ],
 "metadata": {
  "kernelspec": {
   "display_name": ".NET (F#)",
   "language": "F#",
   "name": ".net-fsharp"
  },
  "language": "fsharp",
  "language_info": {
   "file_extension": ".fs",
   "mimetype": "text/x-fsharp",
   "name": "C#",
   "pygments_lexer": "fsharp",
   "version": "4.5"
  }
 },
 "nbformat": 4,
 "nbformat_minor": 2
}
